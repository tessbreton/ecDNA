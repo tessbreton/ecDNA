{
 "cells": [
  {
   "cell_type": "markdown",
   "metadata": {},
   "source": [
    "Plot fitness functions"
   ]
  },
  {
   "cell_type": "code",
   "execution_count": null,
   "metadata": {},
   "outputs": [],
   "source": [
    "import numpy as np\n",
    "import plotly.graph_objects as go"
   ]
  },
  {
   "cell_type": "code",
   "execution_count": null,
   "metadata": {},
   "outputs": [],
   "source": [
    "def cell_fitness(type,s,k):\n",
    "    if type == 'log': return 1 + s * np.log(1+k)\n",
    "    elif type == 'linear': return 1 + s * k\n",
    "    elif type == 'power': return (1+s)**k"
   ]
  },
  {
   "cell_type": "code",
   "execution_count": null,
   "metadata": {},
   "outputs": [],
   "source": [
    "def plot_fitness_functions(functions, n=200):\n",
    "    x = np.linspace(0, n, n+1)\n",
    "    \n",
    "    fig = go.Figure()\n",
    "\n",
    "    for function_type, s, color in functions:\n",
    "        y = cell_fitness(function_type, s, x)\n",
    "        fig.add_trace(go.Scatter(x=x, y=y, mode='lines', name=f'{function_type}, s={s}', marker=dict(color=color),\n",
    "                                 hovertemplate='ecDNA copy number: %{x}<br>Fitness: %{y}'))\n",
    "\n",
    "    fig.update_layout(\n",
    "        xaxis_title={'text': 'ecDNA copy number', 'font': {'size': 18}},\n",
    "        yaxis_title={'text': 'Fitness', 'font': {'size': 18}}, \n",
    "        showlegend=True,\n",
    "        legend=dict(font=dict(size=16)),\n",
    "        plot_bgcolor='rgba(0,0,0,0)',\n",
    "        width=700, height=500\n",
    "    )\n",
    "\n",
    "    fig.show()\n",
    "    fig.write_image('fitness.png', scale=5)\n",
    "\n",
    "functions = [('log', 0.02, 'orangered'), ('log',0.05, 'turquoise'), ('linear',0.005, 'navy')]\n",
    "plot_fitness_functions(functions, n=200)"
   ]
  }
 ],
 "metadata": {
  "kernelspec": {
   "display_name": ".venv",
   "language": "python",
   "name": "python3"
  },
  "language_info": {
   "codemirror_mode": {
    "name": "ipython",
    "version": 3
   },
   "file_extension": ".py",
   "mimetype": "text/x-python",
   "name": "python",
   "nbconvert_exporter": "python",
   "pygments_lexer": "ipython3",
   "version": "3.9.18"
  }
 },
 "nbformat": 4,
 "nbformat_minor": 2
}
