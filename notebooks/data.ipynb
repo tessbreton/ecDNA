{
 "cells": [
  {
   "cell_type": "markdown",
   "metadata": {},
   "source": [
    "Visualize reference data"
   ]
  },
  {
   "cell_type": "code",
   "execution_count": null,
   "metadata": {},
   "outputs": [],
   "source": [
    "import sys\n",
    "import os\n",
    "sys.path.append('..')\n",
    "\n",
    "from utils.load import *\n",
    "from utils.plot import plot_histogram_dict, plot_histograms_dict_overlay\n",
    "import pandas as pd"
   ]
  },
  {
   "cell_type": "code",
   "execution_count": null,
   "metadata": {},
   "outputs": [],
   "source": [
    "file_path_p4 = '../experiments/CAM277/data/cell_counts_p4.yaml'\n",
    "file_path_p15 = '../experiments/CAM277/data/cell_counts_p15.yaml'\n",
    "cell_counts_p4 = load_yaml(file_path_p4)\n",
    "cell_counts_p15 = load_yaml(file_path_p15)"
   ]
  },
  {
   "cell_type": "code",
   "execution_count": null,
   "metadata": {},
   "outputs": [],
   "source": [
    "plot_histogram_dict(cell_counts_p4, plot_color='turquoise', bin_size=5, title='P4 cell counts')"
   ]
  },
  {
   "cell_type": "code",
   "execution_count": null,
   "metadata": {},
   "outputs": [],
   "source": [
    "plot_histogram_dict(cell_counts_p15, bin_size=10, title='P15 cell counts', plot_color='deepskyblue')"
   ]
  },
  {
   "cell_type": "code",
   "execution_count": null,
   "metadata": {},
   "outputs": [],
   "source": [
    "plot_histograms_dict_overlay(dictionaries=[cell_counts_p4, cell_counts_p15], labels=('P4','P15'), opacity=(1,0.5), \n",
    "                             colors=('violet','deepskyblue'), bin_size=10, title='P4 vs P15 cell counts')"
   ]
  }
 ],
 "metadata": {
  "kernelspec": {
   "display_name": ".venv",
   "language": "python",
   "name": "python3"
  },
  "language_info": {
   "codemirror_mode": {
    "name": "ipython",
    "version": 3
   },
   "file_extension": ".py",
   "mimetype": "text/x-python",
   "name": "python",
   "nbconvert_exporter": "python",
   "pygments_lexer": "ipython3",
   "version": "3.9.18"
  }
 },
 "nbformat": 4,
 "nbformat_minor": 2
}
