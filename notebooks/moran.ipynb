{
 "cells": [
  {
   "cell_type": "markdown",
   "metadata": {},
   "source": [
    "# Simulating ecDNA dynamics with Moran process"
   ]
  },
  {
   "cell_type": "markdown",
   "metadata": {},
   "source": [
    "This notebook shows how to run and visualize the results of a simulation using our Moran model with logarithmic fitness."
   ]
  },
  {
   "cell_type": "code",
   "execution_count": null,
   "metadata": {},
   "outputs": [],
   "source": [
    "import sys\n",
    "import os\n",
    "sys.path.append('..')\n",
    "from model import *\n",
    "from utils import *"
   ]
  },
  {
   "cell_type": "code",
   "execution_count": null,
   "metadata": {},
   "outputs": [],
   "source": [
    "EVENTS_PER_PASSAGE = 9\n",
    "start = -5\n",
    "N_CELLS = 1000\n",
    "n_events = EVENTS_PER_PASSAGE * (15-start) * N_CELLS\n",
    "n_eventsP4 = EVENTS_PER_PASSAGE * (4-start) * N_CELLS\n",
    "print(f\"n_events P4: {n_eventsP4}\")\n",
    "print(f\"n_events P15: {n_events}\")"
   ]
  },
  {
   "cell_type": "markdown",
   "metadata": {},
   "source": [
    "## Log fitness"
   ]
  },
  {
   "cell_type": "markdown",
   "metadata": {},
   "source": [
    "$f_k=1+s*\\ln(1+k)$"
   ]
  },
  {
   "cell_type": "code",
   "execution_count": null,
   "metadata": {},
   "outputs": [],
   "source": [
    "# Parameters ---------------------------------------------------------------------------------------------------------\n",
    "fitness = 'log'\n",
    "s = 0.034\n",
    "size = 1000\n",
    "\n",
    "population = Population(fitness=fitness, s=s)\n",
    "population.simulate_moran(size=size, n_events=n_events, verbose=True)"
   ]
  },
  {
   "cell_type": "code",
   "execution_count": null,
   "metadata": {},
   "outputs": [],
   "source": [
    "population.plot_histogram(bin_size=10, plot_color='turquoise', time_index=n_eventsP4, width=1000)"
   ]
  },
  {
   "cell_type": "code",
   "execution_count": null,
   "metadata": {},
   "outputs": [],
   "source": [
    "population.plot_histogram(bin_size=10, plot_color='turquoise', time_index=-1, width=1000)\n"
   ]
  }
 ],
 "metadata": {
  "kernelspec": {
   "display_name": ".venv",
   "language": "python",
   "name": "python3"
  },
  "language_info": {
   "codemirror_mode": {
    "name": "ipython",
    "version": 3
   },
   "file_extension": ".py",
   "mimetype": "text/x-python",
   "name": "python",
   "nbconvert_exporter": "python",
   "pygments_lexer": "ipython3",
   "version": "3.9.18"
  }
 },
 "nbformat": 4,
 "nbformat_minor": 2
}
