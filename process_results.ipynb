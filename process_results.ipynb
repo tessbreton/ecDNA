{
 "cells": [
  {
   "cell_type": "code",
   "execution_count": 1,
   "metadata": {},
   "outputs": [],
   "source": [
    "from utils import *\n",
    "from ecDNA import *\n",
    "from abcomputation import *"
   ]
  },
  {
   "cell_type": "code",
   "execution_count": 3,
   "metadata": {},
   "outputs": [],
   "source": [
    "abc_results = load_yaml('runs/first_try/abc.yaml')"
   ]
  },
  {
   "cell_type": "code",
   "execution_count": 4,
   "metadata": {},
   "outputs": [],
   "source": [
    "\n",
    "best_s = abc_results['best_s']\n",
    "best_distance = abc_results['best_distance']\n",
    "best_simulated_data = abc_results['best_simulated_data']\n",
    "s_values = abc_results['s_values']\n",
    "distances = abc_results['distances']\n",
    "simulated_data_all = abc_results['simulated_data_all']\n",
    "metric = abc_results['metric']\n",
    "n_samples = abc_results['n_samples']\n",
    "\n",
    "fitness = 'log'\n",
    "EVENTS_PER_PASSAGE = 9\n",
    "N_PASSAGES = 9\n",
    "N_CELLS = 1000\n",
    "n_events = EVENTS_PER_PASSAGE * N_PASSAGES * N_CELLS"
   ]
  },
  {
   "cell_type": "code",
   "execution_count": 5,
   "metadata": {},
   "outputs": [],
   "source": [
    "# Load true data ------------------------------------------------------------------------------------------------------\n",
    "file_path_p4 = 'data/cell_counts_p4.yaml'\n",
    "true_data = load_yaml(file_path_p4)"
   ]
  },
  {
   "cell_type": "code",
   "execution_count": 7,
   "metadata": {},
   "outputs": [
    {
     "data": {
      "application/vnd.plotly.v1+json": {
       "config": {
        "plotlyServerURL": "https://plot.ly"
       },
       "data": [
        {
         "histnorm": "probability density",
         "marker": {
          "color": "turquoise",
          "pattern": {
           "shape": ""
          }
         },
         "name": "Best simulation",
         "opacity": 1,
         "type": "histogram",
         "x": [
          0,
          0,
          0,
          0,
          0,
          0,
          0,
          0,
          0,
          0,
          0,
          0,
          1,
          1,
          2,
          2,
          3,
          3,
          3,
          3,
          3,
          3,
          4,
          4,
          4,
          4,
          4,
          5,
          5,
          5,
          5,
          5,
          5,
          6,
          6,
          6,
          6,
          6,
          6,
          7,
          7,
          7,
          7,
          7,
          7,
          7,
          7,
          7,
          7,
          7,
          8,
          8,
          8,
          8,
          8,
          8,
          8,
          9,
          9,
          9,
          9,
          9,
          9,
          9,
          9,
          9,
          9,
          9,
          9,
          10,
          10,
          10,
          10,
          10,
          10,
          11,
          11,
          11,
          11,
          11,
          11,
          11,
          11,
          11,
          12,
          12,
          12,
          12,
          12,
          12,
          13,
          13,
          13,
          13,
          13,
          13,
          13,
          14,
          14,
          14,
          14,
          14,
          14,
          14,
          14,
          14,
          14,
          14,
          14,
          15,
          15,
          15,
          15,
          15,
          15,
          15,
          15,
          15,
          15,
          16,
          16,
          16,
          16,
          16,
          16,
          16,
          16,
          16,
          16,
          16,
          16,
          16,
          16,
          16,
          17,
          17,
          17,
          17,
          17,
          17,
          17,
          17,
          17,
          18,
          18,
          18,
          18,
          18,
          18,
          18,
          18,
          18,
          18,
          18,
          19,
          19,
          19,
          19,
          19,
          19,
          19,
          19,
          19,
          19,
          20,
          20,
          20,
          20,
          20,
          20,
          20,
          20,
          20,
          20,
          21,
          21,
          21,
          21,
          21,
          21,
          21,
          21,
          21,
          21,
          21,
          21,
          21,
          21,
          21,
          21,
          21,
          21,
          22,
          22,
          22,
          22,
          22,
          22,
          22,
          22,
          22,
          22,
          22,
          22,
          22,
          22,
          23,
          23,
          23,
          23,
          23,
          23,
          23,
          23,
          23,
          23,
          23,
          23,
          23,
          23,
          24,
          24,
          24,
          24,
          24,
          24,
          24,
          24,
          24,
          24,
          24,
          24,
          24,
          25,
          25,
          25,
          25,
          25,
          25,
          25,
          26,
          26,
          26,
          26,
          26,
          26,
          26,
          26,
          27,
          27,
          27,
          27,
          27,
          27,
          27,
          27,
          27,
          27,
          27,
          27,
          28,
          28,
          28,
          28,
          28,
          28,
          28,
          28,
          29,
          29,
          29,
          29,
          29,
          29,
          29,
          29,
          29,
          30,
          30,
          30,
          30,
          30,
          30,
          30,
          30,
          30,
          30,
          30,
          30,
          30,
          30,
          30,
          30,
          30,
          30,
          30,
          31,
          31,
          31,
          31,
          31,
          31,
          31,
          31,
          31,
          32,
          32,
          32,
          32,
          32,
          32,
          32,
          32,
          32,
          32,
          32,
          32,
          33,
          33,
          33,
          33,
          33,
          33,
          33,
          33,
          33,
          33,
          33,
          34,
          34,
          34,
          34,
          34,
          34,
          34,
          34,
          34,
          34,
          35,
          35,
          35,
          35,
          35,
          35,
          35,
          35,
          35,
          35,
          36,
          36,
          36,
          36,
          36,
          36,
          36,
          37,
          37,
          37,
          37,
          37,
          37,
          37,
          38,
          38,
          38,
          38,
          38,
          38,
          38,
          39,
          39,
          39,
          39,
          39,
          39,
          39,
          39,
          39,
          40,
          40,
          40,
          40,
          40,
          40,
          40,
          40,
          40,
          40,
          41,
          41,
          41,
          41,
          41,
          41,
          41,
          41,
          41,
          41,
          41,
          41,
          42,
          42,
          42,
          42,
          42,
          42,
          42,
          42,
          42,
          42,
          42,
          42,
          42,
          42,
          43,
          43,
          43,
          43,
          43,
          43,
          43,
          44,
          44,
          44,
          44,
          44,
          44,
          44,
          44,
          44,
          44,
          44,
          44,
          44,
          44,
          45,
          45,
          45,
          45,
          45,
          45,
          45,
          45,
          45,
          45,
          45,
          45,
          45,
          46,
          46,
          46,
          46,
          46,
          46,
          46,
          46,
          46,
          46,
          46,
          46,
          46,
          47,
          47,
          47,
          47,
          47,
          47,
          47,
          47,
          47,
          47,
          47,
          47,
          47,
          48,
          48,
          48,
          48,
          48,
          48,
          48,
          48,
          48,
          49,
          49,
          49,
          49,
          49,
          49,
          49,
          49,
          49,
          49,
          49,
          49,
          49,
          49,
          49,
          49,
          49,
          49,
          49,
          50,
          50,
          50,
          50,
          50,
          50,
          51,
          51,
          51,
          51,
          51,
          51,
          51,
          51,
          51,
          51,
          52,
          52,
          52,
          52,
          52,
          52,
          52,
          52,
          53,
          53,
          53,
          53,
          53,
          53,
          53,
          53,
          53,
          53,
          54,
          54,
          54,
          54,
          54,
          54,
          55,
          55,
          55,
          55,
          55,
          55,
          55,
          55,
          55,
          55,
          55,
          56,
          56,
          56,
          56,
          56,
          56,
          56,
          56,
          56,
          56,
          56,
          56,
          56,
          56,
          56,
          56,
          56,
          57,
          57,
          57,
          58,
          58,
          58,
          58,
          58,
          58,
          59,
          59,
          59,
          59,
          59,
          59,
          60,
          60,
          60,
          60,
          60,
          60,
          60,
          60,
          60,
          60,
          60,
          60,
          60,
          60,
          60,
          61,
          61,
          61,
          61,
          61,
          61,
          61,
          61,
          61,
          61,
          61,
          61,
          62,
          62,
          62,
          62,
          62,
          62,
          62,
          62,
          62,
          63,
          63,
          63,
          63,
          63,
          63,
          63,
          63,
          63,
          63,
          64,
          64,
          64,
          64,
          64,
          64,
          64,
          64,
          65,
          65,
          65,
          65,
          65,
          65,
          65,
          65,
          66,
          66,
          66,
          66,
          66,
          66,
          66,
          66,
          67,
          67,
          67,
          67,
          67,
          68,
          68,
          68,
          68,
          68,
          68,
          69,
          69,
          69,
          69,
          69,
          70,
          70,
          70,
          70,
          70,
          70,
          70,
          70,
          70,
          70,
          70,
          70,
          71,
          71,
          71,
          71,
          71,
          72,
          72,
          72,
          72,
          72,
          72,
          72,
          72,
          72,
          73,
          73,
          73,
          73,
          73,
          73,
          73,
          73,
          74,
          74,
          74,
          74,
          74,
          74,
          74,
          75,
          75,
          75,
          75,
          76,
          77,
          77,
          77,
          77,
          77,
          77,
          77,
          78,
          78,
          79,
          79,
          79,
          79,
          79,
          80,
          80,
          80,
          80,
          81,
          82,
          82,
          83,
          83,
          83,
          83,
          84,
          84,
          84,
          84,
          85,
          85,
          86,
          86,
          87,
          87,
          87,
          87,
          87,
          87,
          87,
          88,
          88,
          88,
          88,
          88,
          88,
          88,
          88,
          89,
          89,
          89,
          89,
          89,
          90,
          90,
          90,
          91,
          92,
          92,
          92,
          92,
          92,
          93,
          93,
          93,
          93,
          93,
          93,
          94,
          94,
          94,
          94,
          94,
          95,
          95,
          95,
          95,
          95,
          95,
          95,
          95,
          95,
          95,
          96,
          96,
          96,
          97,
          97,
          97,
          97,
          98,
          98,
          98,
          98,
          99,
          99,
          99,
          99,
          99,
          99,
          100,
          100,
          101,
          101,
          101,
          102,
          102,
          102,
          103,
          103,
          103,
          103,
          104,
          104,
          104,
          105,
          106,
          106,
          107,
          107,
          107,
          107,
          108,
          108,
          109,
          109,
          109,
          110,
          110,
          110,
          110,
          111,
          111,
          111,
          112,
          112,
          112,
          112,
          112,
          112,
          113,
          113,
          115,
          115,
          115,
          115,
          116,
          116,
          116,
          116,
          116,
          116,
          116,
          117,
          117,
          117,
          117,
          117,
          118,
          118,
          119,
          119,
          120,
          121,
          122,
          122,
          123,
          123,
          123,
          123,
          123,
          125,
          125,
          125,
          126,
          126,
          127,
          127,
          127,
          128,
          128,
          128,
          129,
          129,
          129,
          131,
          131,
          132,
          133,
          133,
          134,
          134,
          134,
          135,
          136,
          137,
          137,
          137,
          138,
          138,
          139,
          139,
          140,
          140,
          141,
          141,
          141,
          143,
          145,
          145,
          145,
          147,
          147,
          147,
          149,
          150,
          150,
          150,
          152,
          153,
          155,
          156,
          157,
          158,
          158,
          159,
          162,
          166,
          168,
          169,
          169,
          171,
          171,
          174,
          175,
          177,
          177,
          178,
          179,
          179,
          181,
          182,
          186,
          189,
          191,
          191,
          194,
          197,
          202,
          202,
          203,
          204,
          204,
          205,
          205,
          209,
          212,
          220,
          222,
          225,
          229,
          229,
          230,
          231,
          232,
          235,
          236,
          240,
          241,
          243,
          245,
          246,
          247,
          253,
          253,
          253,
          262,
          264,
          273,
          273,
          274,
          274,
          284
         ],
         "xbins": {
          "size": 10
         }
        },
        {
         "histnorm": "probability density",
         "marker": {
          "color": "palegreen",
          "pattern": {
           "shape": ""
          }
         },
         "name": "Reference data",
         "opacity": 0.7,
         "type": "histogram",
         "x": [
          4,
          6,
          7,
          8,
          8,
          8,
          8,
          9,
          10,
          10,
          10,
          10,
          11,
          11,
          12,
          12,
          12,
          12,
          12,
          12,
          12,
          13,
          13,
          13,
          13,
          13,
          14,
          14,
          14,
          14,
          14,
          14,
          14,
          14,
          14,
          15,
          15,
          15,
          15,
          15,
          15,
          16,
          16,
          16,
          16,
          16,
          16,
          17,
          17,
          17,
          17,
          17,
          17,
          18,
          18,
          18,
          18,
          18,
          18,
          18,
          19,
          19,
          19,
          19,
          19,
          19,
          20,
          20,
          20,
          20,
          20,
          20,
          20,
          20,
          21,
          21,
          21,
          21,
          22,
          22,
          22,
          22,
          22,
          23,
          23,
          23,
          23,
          24,
          24,
          24,
          24,
          25,
          25,
          25,
          26,
          26,
          26,
          26,
          26,
          26,
          26,
          26,
          26,
          26,
          26,
          27,
          27,
          27,
          27,
          27,
          27,
          28,
          28,
          28,
          28,
          28,
          28,
          29,
          29,
          29,
          30,
          30,
          31,
          31,
          31,
          31,
          32,
          32,
          33,
          33,
          34,
          34,
          34,
          34,
          34,
          34,
          34,
          34,
          35,
          36,
          36,
          36,
          36,
          36,
          36,
          37,
          37,
          37,
          37,
          38,
          38,
          39,
          39,
          39,
          39,
          39,
          40,
          40,
          40,
          40,
          40,
          40,
          41,
          41,
          41,
          42,
          42,
          42,
          42,
          42,
          43,
          43,
          44,
          44,
          44,
          44,
          44,
          44,
          44,
          44,
          45,
          45,
          45,
          47,
          48,
          48,
          48,
          48,
          48,
          49,
          49,
          49,
          50,
          50,
          50,
          50,
          51,
          51,
          51,
          51,
          52,
          52,
          52,
          53,
          53,
          53,
          53,
          54,
          54,
          54,
          54,
          54,
          55,
          55,
          57,
          57,
          57,
          58,
          58,
          58,
          58,
          58,
          59,
          59,
          60,
          61,
          62,
          62,
          63,
          63,
          64,
          65,
          65,
          66,
          67,
          68,
          68,
          68,
          69,
          69,
          70,
          70,
          70,
          71,
          71,
          71,
          72,
          72,
          72,
          73,
          75,
          76,
          76,
          77,
          77,
          77,
          78,
          78,
          78,
          79,
          79,
          80,
          80,
          80,
          80,
          81,
          81,
          82,
          82,
          82,
          82,
          84,
          84,
          85,
          85,
          87,
          87,
          88,
          88,
          88,
          88,
          88,
          89,
          91,
          91,
          92,
          92,
          93,
          94,
          94,
          97,
          97,
          98,
          98,
          99,
          99,
          102,
          103,
          104,
          104,
          105,
          106,
          106,
          109,
          110,
          111,
          113,
          114,
          115,
          118,
          118,
          119,
          120,
          122,
          124,
          125,
          126,
          126,
          126,
          127,
          128,
          129,
          130,
          137,
          137,
          140,
          141,
          144,
          148,
          153,
          156,
          163,
          164,
          168,
          178,
          183,
          184,
          192,
          193,
          196,
          202,
          205,
          221,
          222,
          223,
          254,
          265,
          286,
          288,
          305,
          327,
          329,
          349,
          438,
          495
         ],
         "xbins": {
          "size": 10
         }
        }
       ],
       "layout": {
        "bargap": 0.1,
        "barmode": "overlay",
        "plot_bgcolor": "white",
        "template": {
         "data": {
          "bar": [
           {
            "error_x": {
             "color": "#2a3f5f"
            },
            "error_y": {
             "color": "#2a3f5f"
            },
            "marker": {
             "line": {
              "color": "#E5ECF6",
              "width": 0.5
             },
             "pattern": {
              "fillmode": "overlay",
              "size": 10,
              "solidity": 0.2
             }
            },
            "type": "bar"
           }
          ],
          "barpolar": [
           {
            "marker": {
             "line": {
              "color": "#E5ECF6",
              "width": 0.5
             },
             "pattern": {
              "fillmode": "overlay",
              "size": 10,
              "solidity": 0.2
             }
            },
            "type": "barpolar"
           }
          ],
          "carpet": [
           {
            "aaxis": {
             "endlinecolor": "#2a3f5f",
             "gridcolor": "white",
             "linecolor": "white",
             "minorgridcolor": "white",
             "startlinecolor": "#2a3f5f"
            },
            "baxis": {
             "endlinecolor": "#2a3f5f",
             "gridcolor": "white",
             "linecolor": "white",
             "minorgridcolor": "white",
             "startlinecolor": "#2a3f5f"
            },
            "type": "carpet"
           }
          ],
          "choropleth": [
           {
            "colorbar": {
             "outlinewidth": 0,
             "ticks": ""
            },
            "type": "choropleth"
           }
          ],
          "contour": [
           {
            "colorbar": {
             "outlinewidth": 0,
             "ticks": ""
            },
            "colorscale": [
             [
              0,
              "#0d0887"
             ],
             [
              0.1111111111111111,
              "#46039f"
             ],
             [
              0.2222222222222222,
              "#7201a8"
             ],
             [
              0.3333333333333333,
              "#9c179e"
             ],
             [
              0.4444444444444444,
              "#bd3786"
             ],
             [
              0.5555555555555556,
              "#d8576b"
             ],
             [
              0.6666666666666666,
              "#ed7953"
             ],
             [
              0.7777777777777778,
              "#fb9f3a"
             ],
             [
              0.8888888888888888,
              "#fdca26"
             ],
             [
              1,
              "#f0f921"
             ]
            ],
            "type": "contour"
           }
          ],
          "contourcarpet": [
           {
            "colorbar": {
             "outlinewidth": 0,
             "ticks": ""
            },
            "type": "contourcarpet"
           }
          ],
          "heatmap": [
           {
            "colorbar": {
             "outlinewidth": 0,
             "ticks": ""
            },
            "colorscale": [
             [
              0,
              "#0d0887"
             ],
             [
              0.1111111111111111,
              "#46039f"
             ],
             [
              0.2222222222222222,
              "#7201a8"
             ],
             [
              0.3333333333333333,
              "#9c179e"
             ],
             [
              0.4444444444444444,
              "#bd3786"
             ],
             [
              0.5555555555555556,
              "#d8576b"
             ],
             [
              0.6666666666666666,
              "#ed7953"
             ],
             [
              0.7777777777777778,
              "#fb9f3a"
             ],
             [
              0.8888888888888888,
              "#fdca26"
             ],
             [
              1,
              "#f0f921"
             ]
            ],
            "type": "heatmap"
           }
          ],
          "heatmapgl": [
           {
            "colorbar": {
             "outlinewidth": 0,
             "ticks": ""
            },
            "colorscale": [
             [
              0,
              "#0d0887"
             ],
             [
              0.1111111111111111,
              "#46039f"
             ],
             [
              0.2222222222222222,
              "#7201a8"
             ],
             [
              0.3333333333333333,
              "#9c179e"
             ],
             [
              0.4444444444444444,
              "#bd3786"
             ],
             [
              0.5555555555555556,
              "#d8576b"
             ],
             [
              0.6666666666666666,
              "#ed7953"
             ],
             [
              0.7777777777777778,
              "#fb9f3a"
             ],
             [
              0.8888888888888888,
              "#fdca26"
             ],
             [
              1,
              "#f0f921"
             ]
            ],
            "type": "heatmapgl"
           }
          ],
          "histogram": [
           {
            "marker": {
             "pattern": {
              "fillmode": "overlay",
              "size": 10,
              "solidity": 0.2
             }
            },
            "type": "histogram"
           }
          ],
          "histogram2d": [
           {
            "colorbar": {
             "outlinewidth": 0,
             "ticks": ""
            },
            "colorscale": [
             [
              0,
              "#0d0887"
             ],
             [
              0.1111111111111111,
              "#46039f"
             ],
             [
              0.2222222222222222,
              "#7201a8"
             ],
             [
              0.3333333333333333,
              "#9c179e"
             ],
             [
              0.4444444444444444,
              "#bd3786"
             ],
             [
              0.5555555555555556,
              "#d8576b"
             ],
             [
              0.6666666666666666,
              "#ed7953"
             ],
             [
              0.7777777777777778,
              "#fb9f3a"
             ],
             [
              0.8888888888888888,
              "#fdca26"
             ],
             [
              1,
              "#f0f921"
             ]
            ],
            "type": "histogram2d"
           }
          ],
          "histogram2dcontour": [
           {
            "colorbar": {
             "outlinewidth": 0,
             "ticks": ""
            },
            "colorscale": [
             [
              0,
              "#0d0887"
             ],
             [
              0.1111111111111111,
              "#46039f"
             ],
             [
              0.2222222222222222,
              "#7201a8"
             ],
             [
              0.3333333333333333,
              "#9c179e"
             ],
             [
              0.4444444444444444,
              "#bd3786"
             ],
             [
              0.5555555555555556,
              "#d8576b"
             ],
             [
              0.6666666666666666,
              "#ed7953"
             ],
             [
              0.7777777777777778,
              "#fb9f3a"
             ],
             [
              0.8888888888888888,
              "#fdca26"
             ],
             [
              1,
              "#f0f921"
             ]
            ],
            "type": "histogram2dcontour"
           }
          ],
          "mesh3d": [
           {
            "colorbar": {
             "outlinewidth": 0,
             "ticks": ""
            },
            "type": "mesh3d"
           }
          ],
          "parcoords": [
           {
            "line": {
             "colorbar": {
              "outlinewidth": 0,
              "ticks": ""
             }
            },
            "type": "parcoords"
           }
          ],
          "pie": [
           {
            "automargin": true,
            "type": "pie"
           }
          ],
          "scatter": [
           {
            "fillpattern": {
             "fillmode": "overlay",
             "size": 10,
             "solidity": 0.2
            },
            "type": "scatter"
           }
          ],
          "scatter3d": [
           {
            "line": {
             "colorbar": {
              "outlinewidth": 0,
              "ticks": ""
             }
            },
            "marker": {
             "colorbar": {
              "outlinewidth": 0,
              "ticks": ""
             }
            },
            "type": "scatter3d"
           }
          ],
          "scattercarpet": [
           {
            "marker": {
             "colorbar": {
              "outlinewidth": 0,
              "ticks": ""
             }
            },
            "type": "scattercarpet"
           }
          ],
          "scattergeo": [
           {
            "marker": {
             "colorbar": {
              "outlinewidth": 0,
              "ticks": ""
             }
            },
            "type": "scattergeo"
           }
          ],
          "scattergl": [
           {
            "marker": {
             "colorbar": {
              "outlinewidth": 0,
              "ticks": ""
             }
            },
            "type": "scattergl"
           }
          ],
          "scattermapbox": [
           {
            "marker": {
             "colorbar": {
              "outlinewidth": 0,
              "ticks": ""
             }
            },
            "type": "scattermapbox"
           }
          ],
          "scatterpolar": [
           {
            "marker": {
             "colorbar": {
              "outlinewidth": 0,
              "ticks": ""
             }
            },
            "type": "scatterpolar"
           }
          ],
          "scatterpolargl": [
           {
            "marker": {
             "colorbar": {
              "outlinewidth": 0,
              "ticks": ""
             }
            },
            "type": "scatterpolargl"
           }
          ],
          "scatterternary": [
           {
            "marker": {
             "colorbar": {
              "outlinewidth": 0,
              "ticks": ""
             }
            },
            "type": "scatterternary"
           }
          ],
          "surface": [
           {
            "colorbar": {
             "outlinewidth": 0,
             "ticks": ""
            },
            "colorscale": [
             [
              0,
              "#0d0887"
             ],
             [
              0.1111111111111111,
              "#46039f"
             ],
             [
              0.2222222222222222,
              "#7201a8"
             ],
             [
              0.3333333333333333,
              "#9c179e"
             ],
             [
              0.4444444444444444,
              "#bd3786"
             ],
             [
              0.5555555555555556,
              "#d8576b"
             ],
             [
              0.6666666666666666,
              "#ed7953"
             ],
             [
              0.7777777777777778,
              "#fb9f3a"
             ],
             [
              0.8888888888888888,
              "#fdca26"
             ],
             [
              1,
              "#f0f921"
             ]
            ],
            "type": "surface"
           }
          ],
          "table": [
           {
            "cells": {
             "fill": {
              "color": "#EBF0F8"
             },
             "line": {
              "color": "white"
             }
            },
            "header": {
             "fill": {
              "color": "#C8D4E3"
             },
             "line": {
              "color": "white"
             }
            },
            "type": "table"
           }
          ]
         },
         "layout": {
          "annotationdefaults": {
           "arrowcolor": "#2a3f5f",
           "arrowhead": 0,
           "arrowwidth": 1
          },
          "autotypenumbers": "strict",
          "coloraxis": {
           "colorbar": {
            "outlinewidth": 0,
            "ticks": ""
           }
          },
          "colorscale": {
           "diverging": [
            [
             0,
             "#8e0152"
            ],
            [
             0.1,
             "#c51b7d"
            ],
            [
             0.2,
             "#de77ae"
            ],
            [
             0.3,
             "#f1b6da"
            ],
            [
             0.4,
             "#fde0ef"
            ],
            [
             0.5,
             "#f7f7f7"
            ],
            [
             0.6,
             "#e6f5d0"
            ],
            [
             0.7,
             "#b8e186"
            ],
            [
             0.8,
             "#7fbc41"
            ],
            [
             0.9,
             "#4d9221"
            ],
            [
             1,
             "#276419"
            ]
           ],
           "sequential": [
            [
             0,
             "#0d0887"
            ],
            [
             0.1111111111111111,
             "#46039f"
            ],
            [
             0.2222222222222222,
             "#7201a8"
            ],
            [
             0.3333333333333333,
             "#9c179e"
            ],
            [
             0.4444444444444444,
             "#bd3786"
            ],
            [
             0.5555555555555556,
             "#d8576b"
            ],
            [
             0.6666666666666666,
             "#ed7953"
            ],
            [
             0.7777777777777778,
             "#fb9f3a"
            ],
            [
             0.8888888888888888,
             "#fdca26"
            ],
            [
             1,
             "#f0f921"
            ]
           ],
           "sequentialminus": [
            [
             0,
             "#0d0887"
            ],
            [
             0.1111111111111111,
             "#46039f"
            ],
            [
             0.2222222222222222,
             "#7201a8"
            ],
            [
             0.3333333333333333,
             "#9c179e"
            ],
            [
             0.4444444444444444,
             "#bd3786"
            ],
            [
             0.5555555555555556,
             "#d8576b"
            ],
            [
             0.6666666666666666,
             "#ed7953"
            ],
            [
             0.7777777777777778,
             "#fb9f3a"
            ],
            [
             0.8888888888888888,
             "#fdca26"
            ],
            [
             1,
             "#f0f921"
            ]
           ]
          },
          "colorway": [
           "#636efa",
           "#EF553B",
           "#00cc96",
           "#ab63fa",
           "#FFA15A",
           "#19d3f3",
           "#FF6692",
           "#B6E880",
           "#FF97FF",
           "#FECB52"
          ],
          "font": {
           "color": "#2a3f5f"
          },
          "geo": {
           "bgcolor": "white",
           "lakecolor": "white",
           "landcolor": "#E5ECF6",
           "showlakes": true,
           "showland": true,
           "subunitcolor": "white"
          },
          "hoverlabel": {
           "align": "left"
          },
          "hovermode": "closest",
          "mapbox": {
           "style": "light"
          },
          "paper_bgcolor": "white",
          "plot_bgcolor": "#E5ECF6",
          "polar": {
           "angularaxis": {
            "gridcolor": "white",
            "linecolor": "white",
            "ticks": ""
           },
           "bgcolor": "#E5ECF6",
           "radialaxis": {
            "gridcolor": "white",
            "linecolor": "white",
            "ticks": ""
           }
          },
          "scene": {
           "xaxis": {
            "backgroundcolor": "#E5ECF6",
            "gridcolor": "white",
            "gridwidth": 2,
            "linecolor": "white",
            "showbackground": true,
            "ticks": "",
            "zerolinecolor": "white"
           },
           "yaxis": {
            "backgroundcolor": "#E5ECF6",
            "gridcolor": "white",
            "gridwidth": 2,
            "linecolor": "white",
            "showbackground": true,
            "ticks": "",
            "zerolinecolor": "white"
           },
           "zaxis": {
            "backgroundcolor": "#E5ECF6",
            "gridcolor": "white",
            "gridwidth": 2,
            "linecolor": "white",
            "showbackground": true,
            "ticks": "",
            "zerolinecolor": "white"
           }
          },
          "shapedefaults": {
           "line": {
            "color": "#2a3f5f"
           }
          },
          "ternary": {
           "aaxis": {
            "gridcolor": "white",
            "linecolor": "white",
            "ticks": ""
           },
           "baxis": {
            "gridcolor": "white",
            "linecolor": "white",
            "ticks": ""
           },
           "bgcolor": "#E5ECF6",
           "caxis": {
            "gridcolor": "white",
            "linecolor": "white",
            "ticks": ""
           }
          },
          "title": {
           "x": 0.05
          },
          "xaxis": {
           "automargin": true,
           "gridcolor": "white",
           "linecolor": "white",
           "ticks": "",
           "title": {
            "standoff": 15
           },
           "zerolinecolor": "white",
           "zerolinewidth": 2
          },
          "yaxis": {
           "automargin": true,
           "gridcolor": "white",
           "linecolor": "white",
           "ticks": "",
           "title": {
            "standoff": 15
           },
           "zerolinecolor": "white",
           "zerolinewidth": 2
          }
         }
        },
        "title": {
         "text": "Normalized distributions of ecDNA counts at Passage 4 and best simulation with log fitness (s=0.045)"
        },
        "xaxis": {
         "title": {
          "text": "ecDNA counts"
         }
        },
        "yaxis": {
         "title": {
          "text": "Frequency"
         }
        }
       }
      }
     },
     "metadata": {},
     "output_type": "display_data"
    }
   ],
   "source": [
    "plot_histograms_dict_overlay(dictionaries=[best_simulated_data],\n",
    "                             true_data=true_data,\n",
    "                             plot_ref=True,\n",
    "                             labels=['Best simulation'],\n",
    "                             colors=['turquoise'],\n",
    "                             title=f'Normalized distributions of ecDNA counts at Passage 4 and best simulation with {fitness} fitness (s={best_s:.3f})',\n",
    "                             save=True,\n",
    "                             filepath='plots/best_simulation_p4.png')"
   ]
  },
  {
   "cell_type": "code",
   "execution_count": 9,
   "metadata": {},
   "outputs": [
    {
     "data": {
      "application/vnd.plotly.v1+json": {
       "config": {
        "plotlyServerURL": "https://plot.ly"
       },
       "data": [
        {
         "hovertemplate": "s: %{x:.3f}<br>Wasserstein distance: %{y:.1f}",
         "marker": {
          "color": "black",
          "size": 5
         },
         "mode": "markers",
         "name": "All points",
         "type": "scatter",
         "x": [
          0.09116619422391761,
          0.05759467065948239,
          0.12760202328159093,
          0.08598245932169703,
          0.05393667605325001,
          0.10705572666284574,
          0.06042045755859774,
          0.08015656863187431,
          0.024315837764130065,
          0.11171554951464573,
          0.01586920975945316,
          0.051409712480251786,
          0.07761839650716325,
          0.09168106093631034,
          0.09822253220974246,
          0.06272922960312574,
          0.04940906241484952,
          0.019909630923054505,
          0.12692186657202192,
          0.03554992620747426,
          0.09382631885419268,
          0.1179968207130926,
          0.11730005440733646,
          0.027254206750111927,
          0.09224128438056278,
          0.09578670216315034,
          0.09410433756103029,
          0.0395826339951723,
          0.05964432506330634,
          0.08022417834182408,
          0.049491161996113864,
          0.10512719732284515,
          0.10163682458749787,
          0.042540563389914854,
          0.08826616723704567,
          0.1275845269158526,
          0.1069111110990973,
          0.07462886490072274,
          0.03584166125047763,
          0.025267541924379584,
          0.10544863067143417,
          0.08429544742377318,
          0.04158509200808119,
          0.02423150827364496,
          0.07384895137676765,
          0.039411144423688926,
          0.09331336221264121,
          0.11845762759094869,
          0.11602573108574005,
          0.11291614924393141,
          0.08830933837956666,
          0.061450066365034396,
          0.040095307948737634,
          0.01712357085996782,
          0.07818742361167355,
          0.11609128271611566,
          0.12254093498170657,
          0.025538341264117678,
          0.06437845185683086,
          0.12760789217455842,
          0.05839275978662284,
          0.0882845369419819,
          0.042054210156724794,
          0.08541047619298658,
          0.07818716205486106,
          0.03738020689332486,
          0.041282370448430736,
          0.07633890844528277,
          0.11034555119361444,
          0.08683927292614994,
          0.05207908610762216,
          0.09763494617239699,
          0.034551062213409776,
          0.07089208810403927,
          0.02906150804087765,
          0.04167853772713673,
          0.08964748232566151,
          0.06609546436294872,
          0.03347937785193114,
          0.03112618735243458,
          0.06110576036251025,
          0.10298950977627787,
          0.047140845504731715,
          0.08198314319944512,
          0.0914235926459292,
          0.0556588661789773,
          0.121919946832335,
          0.05658356269344078,
          0.08421568168355265,
          0.037797521584597454,
          0.07336082410918804,
          0.023975800974864965,
          0.09122431890587507,
          0.08931958291534904,
          0.025572078473358968,
          0.029944522898709407,
          0.11790216832621453,
          0.0484923346456724,
          0.053603967562699764,
          0.11911810099568397,
          0.051820948864448386,
          0.08699525749456667,
          0.05123666246408082,
          0.08125922875529022,
          0.11978807393389275,
          0.07201419501564583,
          0.11694041306348005,
          0.0938513592192943,
          0.05263861278434511,
          0.01626453636463528,
          0.016810490078439582,
          0.08250540310446625,
          0.11489748138477004,
          0.04069542534303497,
          0.1280946481832425,
          0.09864267508906249,
          0.10159847276821087,
          0.12948446227248375,
          0.06511770715159379,
          0.096455878074976,
          0.08013347563906334,
          0.021343010193203976,
          0.04350979726664528,
          0.057928413086071016,
          0.07316794564007434,
          0.016612588474037546,
          0.10137753212865988,
          0.04685243296423836,
          0.12428379738481118,
          0.12739765705366232,
          0.020140154681138073,
          0.11680999537213578,
          0.038718056145419615,
          0.09636652796561755,
          0.0426329218831088,
          0.01941687649440891,
          0.037909492374585886,
          0.1208251063764523,
          0.035086141629113,
          0.12093293743892118,
          0.1255160199474044,
          0.07218715627405449,
          0.025353364517239296,
          0.10487007783482058,
          0.12171715093786763,
          0.02581129947646416,
          0.017346277689140845,
          0.08810814005111829,
          0.04068184437431951,
          0.035088305441890864,
          0.12874360173546384,
          0.1088280441435415,
          0.022752543633285924,
          0.03689493299720871,
          0.09791967773471222,
          0.10655652371481399,
          0.10786712848118987,
          0.08764219737359043,
          0.11689924605730653,
          0.10053647009515283,
          0.0974712634714612,
          0.12140015394574438,
          0.1286424260327027,
          0.12535575834067525,
          0.06395959296968604,
          0.07763564719670518,
          0.06930948970896064,
          0.01964203094081755,
          0.11707181600905034,
          0.04291898154008365,
          0.055958930367324675,
          0.03885969268254373,
          0.06493836546492274,
          0.07448832105568146,
          0.11068015986537866,
          0.05611733070782257,
          0.08098247420595511,
          0.03586229514944482,
          0.03828679969105733,
          0.04691608769534605,
          0.04542854751691015,
          0.07615510705611186,
          0.059039902732414655,
          0.10900690444131039,
          0.06437701267594417,
          0.10360339692482604,
          0.07300989655071083,
          0.054270865534683244,
          0.07348165802238626,
          0.020561230296318303,
          0.029213437190571567,
          0.07554483559561914,
          0.08583638626382581,
          0.10331996321496,
          0.069271855682867,
          0.09468568271684265,
          0.03763870243808958,
          0.06884123018995936,
          0.0808954188079227,
          0.09260215580957598,
          0.08258429162862894,
          0.018317257228136506,
          0.0501821272512652,
          0.0876405920768763,
          0.09257348097761149,
          0.04297695334733882,
          0.0997175791229832,
          0.12584683400746122,
          0.12386583604771859,
          0.01869914659099121,
          0.07435141035757356,
          0.08708242497908746,
          0.07622066425008543,
          0.05379986999736418,
          0.09888570010015091,
          0.03266539031947592,
          0.10476009063429476,
          0.07996754163973852,
          0.09332054133154485,
          0.04504091592751448,
          0.11853671915223943,
          0.11161780424744337,
          0.10518768778483924,
          0.10855519451108614,
          0.087795215807815,
          0.12677129786380265,
          0.08110877105238846,
          0.1282980911182504,
          0.03757720530888277,
          0.027897085205100786,
          0.10730124740908233,
          0.06561105203860626,
          0.11486470529574966,
          0.03340986483277786,
          0.02289598928026739,
          0.04179037946013032,
          0.10413504980430853,
          0.06487650762870095,
          0.0972970241415431,
          0.01960938496394429,
          0.07478590329674475,
          0.06610605478674506,
          0.01916843425911661,
          0.07053167470318683,
          0.10380948346283458,
          0.10906381367667602,
          0.019385555074355028,
          0.09948673692125584,
          0.12443624911870356,
          0.07665356629446053,
          0.06387150072914755,
          0.029354145543385786,
          0.10810971830713229,
          0.05712996726867521,
          0.055520182100094795,
          0.10157607690565247,
          0.05669564571509033,
          0.028974262420588832,
          0.05484477171154093,
          0.01617435642437872,
          0.1044375240764784,
          0.12648153958490388,
          0.10448764345668568,
          0.09842316948832738,
          0.11814027574720426,
          0.06716173931178887,
          0.12034104869509052,
          0.1241937743604,
          0.026003234431514928,
          0.04830807063318886,
          0.03851761818494627,
          0.05615656774524473,
          0.036476807276279846,
          0.02052135793801532,
          0.05515546083024791,
          0.09810508653959478,
          0.04148123535307482,
          0.102896135182675,
          0.06724576047991583,
          0.019445781062986063,
          0.08232965170720848,
          0.09777972663625464,
          0.026624314774682176,
          0.018038304469689508,
          0.08998856574593903,
          0.02189948049352039,
          0.059188821413036344,
          0.017635553945436668,
          0.059100681475432335,
          0.05170529858495997,
          0.03939568578885594,
          0.048606451176488846,
          0.0281931435976895,
          0.015404615669524994,
          0.03078443670423586,
          0.06476699909804728,
          0.07032039503026946,
          0.0756169033333911,
          0.12061326834122967,
          0.12690396710100116,
          0.046503124740259,
          0.06853587347696438,
          0.019764785278565438,
          0.10743764289481592,
          0.10163253312395078,
          0.04371060518426309,
          0.06026428249675656,
          0.12600448704201347,
          0.05843331119339872,
          0.03546710131125162,
          0.0545879211313181,
          0.12889466996803722,
          0.10230107879642504,
          0.03270566536632735,
          0.11338497628236285,
          0.027283740546516787,
          0.06676682419901538,
          0.12373919482770446,
          0.08283429313187256,
          0.07322627413100877,
          0.0818372544014438,
          0.0588858317671989,
          0.10598817142410612,
          0.024928613042636473,
          0.027156868395926036,
          0.07736622346997252,
          0.055397285806897685,
          0.04116901817826549,
          0.045324707675611246,
          0.09440502433355263,
          0.040034134192966475,
          0.018165548647657976,
          0.049009656605361065,
          0.08436466091906727,
          0.07442707204704198,
          0.05343239166801903,
          0.09426172986512346,
          0.027341609659488918,
          0.04164015761379071,
          0.0988053815064509,
          0.021631085005221498,
          0.036030289551550784,
          0.12985500360829488,
          0.12681730458077037,
          0.08326769164569263,
          0.01584615416962937,
          0.019756240379833513,
          0.05402487872630768,
          0.12696827991221887,
          0.09753514446619738,
          0.020940020200461748,
          0.11070691899578268,
          0.07721357155676065,
          0.08692955535183843,
          0.11353877601445647,
          0.03732438519982347,
          0.0767557018184385,
          0.1169798498946739,
          0.05323862121916211,
          0.02898318032804708,
          0.09948774011835904,
          0.12565127508024432,
          0.11027693535876322,
          0.10715232843658565,
          0.10096156767123582,
          0.07273764424378135,
          0.030128431860078526,
          0.06680622971910519,
          0.055105077242572555,
          0.10458773420053473,
          0.026144257969859676,
          0.12345701724889399,
          0.11256198814714183,
          0.11915213043319739,
          0.08540140388118164,
          0.10133904411094971,
          0.06954011860749537,
          0.11613497269621363,
          0.12588390856366508,
          0.016600108802422464,
          0.11351086096356915,
          0.04895688177499801,
          0.04648870333534239,
          0.09186063145883704,
          0.05088765093536923,
          0.02788787117164785,
          0.0712944677277334,
          0.06590975302911478,
          0.02822491162819222,
          0.03710208674643821,
          0.05919009542234963,
          0.07498433955604698,
          0.04794923373848143,
          0.077554106312263,
          0.10716609146814757,
          0.0622953706760365,
          0.10631138600660467,
          0.10022964353315615,
          0.06432870768984864,
          0.08994409932081635,
          0.10715626587692866,
          0.07082638664947444,
          0.06730955852307646,
          0.07859112497676848,
          0.06621336130618702,
          0.10584123453971399,
          0.09591393745968438,
          0.06292569241977838,
          0.09933527158820274,
          0.12744632611830425,
          0.06703319195507401,
          0.09793521204943158,
          0.11600048724245961,
          0.11740455783927511,
          0.10199329463372736,
          0.016388759455109446,
          0.12880765805052202,
          0.051509674191377156,
          0.10858904858366591,
          0.12798373981104927,
          0.12950628240195633,
          0.10973671279797226,
          0.10850253956935049,
          0.10724086069539811,
          0.0561215769176052,
          0.07076095747132255,
          0.11842893295348642,
          0.01902680516247774,
          0.06406732994488244,
          0.05889992644574078,
          0.03812712121495572,
          0.07284261766376135,
          0.04147447449743914,
          0.040997160170409906,
          0.10112427087723021,
          0.06438990573029474,
          0.11898986512183649,
          0.06488204407062634,
          0.11559587074456189,
          0.09305048395601907,
          0.07508491625252058,
          0.04708621447618092,
          0.07881114658449362,
          0.05102613394308697,
          0.1242338573983623,
          0.026517894068931458,
          0.12973973103608433,
          0.12717210523219874,
          0.036593699164571315,
          0.08585925416767064,
          0.12955779119778715,
          0.05387394143226451,
          0.11875018233098728,
          0.10177300198487427,
          0.08708104946473737,
          0.11044417653189888,
          0.08335511576971928,
          0.02856381770554537,
          0.042771318105474895,
          0.12725200133861264,
          0.056366507314539176,
          0.11019890816383789,
          0.09332251655010802,
          0.043672177068626625,
          0.02254856748908856,
          0.08252266444713317,
          0.10986105707587297,
          0.040566716877020056,
          0.06579790405308436,
          0.04591981978241077,
          0.11813791935486613,
          0.08746473225493166,
          0.08917543003113168,
          0.08071889533014055,
          0.06803347824940138,
          0.08581812159330787,
          0.08476356680984176,
          0.04172579376231692,
          0.07938520752105784,
          0.12457844340105419,
          0.050706680860918146,
          0.12695733091189484,
          0.12313783982839929,
          0.11468666507567286,
          0.12051549048309686,
          0.07284116605189705,
          0.06786772923186608,
          0.07784134203362683,
          0.1267234407143484,
          0.057131714152471695,
          0.039488283499071755,
          0.025659667810855668,
          0.05600897399363003,
          0.08365663326483491,
          0.06408024866279119,
          0.04448171204873716,
          0.08526990976318687,
          0.12024937876888489,
          0.06514581005635048,
          0.06357300036321709,
          0.037268019264017266,
          0.06878039948500203,
          0.045811293529772874,
          0.12103892393860564,
          0.0932712780450427,
          0.015269189936466655,
          0.030291497695484886,
          0.03382177058476817,
          0.08964400414764429,
          0.06312940407459208,
          0.0348487269696654,
          0.06236490184776387,
          0.08730297931449575,
          0.09275623240676896,
          0.03724671315176262,
          0.11940267302301916,
          0.07088902726965318,
          0.06424857701270133,
          0.039404091009129255,
          0.025048967983556027,
          0.09744607038171868,
          0.12385568245943303,
          0.09458927871822766,
          0.0462927194036937,
          0.11157611480646706,
          0.10063722220477823,
          0.024215480155501005,
          0.03804596747173837,
          0.026005068011425034,
          0.12309333043908847,
          0.12822936220891418,
          0.0201784810039862,
          0.07843579046763204,
          0.10082571913769643,
          0.09144390297332032,
          0.04331745667702602,
          0.10129069461482224,
          0.0263415467604421,
          0.10777396677461143,
          0.10993746631074357,
          0.06939790520971231,
          0.021625199992334105,
          0.12109779700971578,
          0.05922398787037476,
          0.04125266062571762,
          0.07980227000987404,
          0.0465075911569289,
          0.07144379881372592,
          0.04410582806636101,
          0.10843579118215797,
          0.12447433096907874,
          0.09550628539279317,
          0.1241448891222512,
          0.12851911058034804,
          0.024724118447757015,
          0.01572020314472622,
          0.027966187684962222,
          0.05265219430295614,
          0.08299987097272746,
          0.03020920055775104,
          0.06307650932859446,
          0.02238548100699314,
          0.10062190198438273,
          0.11512552417065731,
          0.1271820237747206,
          0.0427851328823801,
          0.09069834159781381,
          0.07854811889129473,
          0.07207623684565015,
          0.03401819396234971,
          0.1043269501272773,
          0.11090593644893226,
          0.06612775730654025,
          0.0650684543115939,
          0.10469589814845082,
          0.049899057219306236,
          0.020852792910585644,
          0.09479430877552733,
          0.06268563475340783,
          0.07512814247410002,
          0.017968568346917534,
          0.05812085718227206,
          0.08384459627634563,
          0.03708794592633162,
          0.08126265045292207,
          0.05383339919971169,
          0.03743316033090309,
          0.0332471779941495,
          0.12368374396672323,
          0.03294149470513383,
          0.03436061399519824,
          0.017567580084244253,
          0.0269055589208793,
          0.10160648729682556,
          0.04132108251395018,
          0.04414084379079397,
          0.10189739844339696,
          0.09342169158765336,
          0.09012381321052737,
          0.12164231191542961,
          0.10017671802409206,
          0.1167220962952914,
          0.07055511936390277,
          0.07849147537178625,
          0.09991429796453387,
          0.10762136924179488,
          0.06901680600757405,
          0.11305584222469861,
          0.025157958172277603,
          0.03559311305910495,
          0.04387896440878253,
          0.07480917221518979,
          0.1283506312706642,
          0.10364622037262865,
          0.12573070096146272,
          0.0797407520407832,
          0.015967721816040073,
          0.1086746508617817,
          0.050146000510226094,
          0.0733378315225116,
          0.04003959740956968,
          0.0395274790913053,
          0.1270858913035095,
          0.11741205352694206,
          0.112838825378216,
          0.06700421095071195,
          0.11004882983029525,
          0.0890840030060965,
          0.09557668760062422,
          0.01756567921422259,
          0.12128989509562059,
          0.03798609111438146,
          0.09014118075285038,
          0.06234603868733411,
          0.08396824767581874,
          0.10176777130800921,
          0.058430822308842605,
          0.05825515829767902,
          0.04557901745060483,
          0.045909172943184265,
          0.050266188572671844,
          0.09649010957212681,
          0.12251099305147592,
          0.11763461759203331,
          0.09393024392256025,
          0.07979315709602379,
          0.06346263023889517,
          0.09142850262651152,
          0.04556742141786382,
          0.033909636213775934,
          0.08338633120782603,
          0.08515563776781851,
          0.1264045879351096,
          0.021225065053184625,
          0.10242776561874188,
          0.10723243073580115,
          0.11870659210896692,
          0.12946704648553414,
          0.1028081392984494,
          0.09357783844946077,
          0.10581786915416261,
          0.037072899279590746,
          0.04344653771861738,
          0.033967803113038486,
          0.07234126477656594,
          0.1184111324219253,
          0.07797775019805617,
          0.06243481002820142,
          0.06286186280957305,
          0.12432615412264587,
          0.07020405468792373,
          0.10562805637878314,
          0.04409446938213995,
          0.10499519822864045,
          0.06439742777276737,
          0.10944165529350067,
          0.05914459376310752,
          0.026073982656852367,
          0.05879547385364949,
          0.025803093870983104,
          0.1258877422532077,
          0.09180285512054888,
          0.10568921897144207,
          0.1078634242015638,
          0.015325369780674818,
          0.05945892395573466,
          0.07005755796258997,
          0.1050195436411866,
          0.10394331277209158,
          0.10585856656983711,
          0.02282044801319976,
          0.06916442552473824,
          0.05234196730384178,
          0.03375022433480675,
          0.08075794297540403,
          0.039031466707881164,
          0.05676296903542631,
          0.02677306435894315,
          0.11622222449900627,
          0.1119488940820071,
          0.12189741084830089,
          0.05319244461263721,
          0.033306441960298694,
          0.07089164895833966,
          0.12919314619730188,
          0.02475525079243767,
          0.11597800374219003,
          0.046455606096322835,
          0.047434656388441514,
          0.09146203985710452,
          0.0696693917020789,
          0.0926915498534176,
          0.12561614990698644,
          0.06027662034035291,
          0.05870093537157264,
          0.030463581172474705,
          0.07755978693083623,
          0.06110176888279129,
          0.10108275563562576,
          0.07625352069750588,
          0.08625138665975633,
          0.08189387063336107,
          0.04773463926913745,
          0.11461535544839564,
          0.08427226999468239,
          0.09799454442359556,
          0.07716648829228781,
          0.034720263477663396,
          0.020484900784928522,
          0.021088808823654288,
          0.03920716926603467,
          0.11679493405741917,
          0.04311976654649878,
          0.045176441476011006,
          0.11356783539778827,
          0.10400194177613077,
          0.1255674013772109,
          0.08880508703517573,
          0.01553402605247882,
          0.03637842961201847,
          0.06635512218455097,
          0.05804476691901654,
          0.025994458225555322,
          0.11359667203344806,
          0.11714272472170731,
          0.029873107554073818,
          0.05863560804874346,
          0.08889573441154502,
          0.050526553296653225,
          0.11175015130378693,
          0.02474851974674217,
          0.09552610548302419,
          0.0585423859641122,
          0.07339691201707566,
          0.0484441787000496,
          0.05253199789530234,
          0.10140363490846664,
          0.02405095230795439,
          0.01628280851123696,
          0.12036419364487298,
          0.06343899440620641,
          0.05078862268199701,
          0.046126405963603664,
          0.11720867470409503,
          0.026680365062233563,
          0.08191292543672468,
          0.07995393724502844,
          0.020239369243661945,
          0.06842296391157394,
          0.05540222198189035,
          0.06761978053894298,
          0.06813224390209491,
          0.12445142912917198,
          0.019320119589092966,
          0.08314416988109126,
          0.052084005379091414,
          0.12854679621310833,
          0.10924535759009,
          0.09157856804240681,
          0.016836796250818596,
          0.024459464527809435,
          0.09035131402843331,
          0.12605762196133635,
          0.11402027599674426,
          0.01523642831974263,
          0.05623142426945283,
          0.12491574434754768,
          0.0955854001640943,
          0.0353616507823567,
          0.11905467804252783,
          0.05644403138898901,
          0.11741552149244451,
          0.054591226317021894,
          0.11700463082049142,
          0.06274198506003367,
          0.052576602145778015,
          0.046026898536168995,
          0.02747523080775805,
          0.10095555099798777,
          0.10553379144028226,
          0.11223172336180677,
          0.09637691163410199,
          0.03081096025424987,
          0.040362056651138484,
          0.11627982027090428,
          0.04769833828976739,
          0.017317095015456273,
          0.12859219596104324,
          0.03554408675747679,
          0.09143040339225633,
          0.09920872963106234,
          0.1238460112579427,
          0.12286829830592662,
          0.11903464627167207,
          0.07171283682797816,
          0.09738538708370051,
          0.11975787232359598,
          0.027584308281665835,
          0.09793837186514932,
          0.11897025574507282,
          0.07578519433075309,
          0.08006726526308475,
          0.10743704462805635,
          0.04284279127951624,
          0.08654369127962172,
          0.059095748210810414,
          0.123493719567779,
          0.049326999338936736,
          0.06056759894924107,
          0.07750405277537953,
          0.11638959906180817,
          0.07362402331236544,
          0.09403008236090997,
          0.04015022174528449,
          0.11481708177288782,
          0.0865589845840805,
          0.04292102854790292,
          0.04449850568698502,
          0.11626139086011222,
          0.10661809091938557,
          0.05166265823743604,
          0.06470443863473599,
          0.08874770015945249,
          0.1050277677737799,
          0.12407195440342005,
          0.04234548779521059,
          0.077436518845146,
          0.05561845610545744,
          0.047433517609971276,
          0.11979764996804318,
          0.08739798133801673,
          0.10213674922594794,
          0.09066545717360282,
          0.08013657538200673,
          0.12402129795575198,
          0.1268044388258826,
          0.038381073750552594,
          0.024212191751716808,
          0.028138561768119887,
          0.02284287513042256,
          0.10674484258512235,
          0.05885176110412908,
          0.12399571395677972,
          0.024386626775602133,
          0.031263026196449856,
          0.08368120188624767,
          0.01769958458707754,
          0.07157248154122889,
          0.05200845116084413,
          0.09663165451590826,
          0.1011779392718812,
          0.04499901143514307,
          0.021943311383659785,
          0.0947756354344512,
          0.08037301260926434,
          0.057684569001955906,
          0.03893338268059008,
          0.10855171370020104,
          0.11850572434126173,
          0.07378283023927848,
          0.10348920755932708,
          0.03262459209797822,
          0.09898364575293747,
          0.04248586482718471,
          0.054006282237780576,
          0.04928902902234578,
          0.019162438906123846,
          0.07640266413863685,
          0.07250140234757868,
          0.05215798399293098,
          0.08851351664737102,
          0.02548251108876856,
          0.01871997662576331,
          0.11843073573428549,
          0.06622125478008685,
          0.07570944154334852,
          0.019993093594638984,
          0.07997580808145599,
          0.09858718735014338,
          0.08707877483220111,
          0.035138345526836076,
          0.10650374305126406,
          0.017071929498324333,
          0.07401205659446296,
          0.09690191285284501,
          0.02453789512107668,
          0.02472622395525305,
          0.061253120218893724,
          0.07742864938481736,
          0.1176284665844278,
          0.10587866179817837,
          0.034645666062714214,
          0.04503452741790476,
          0.0842240715703941,
          0.023339270175241747,
          0.10125938771724982,
          0.025276988678994698,
          0.08728092174331635,
          0.11368240936695462,
          0.07054594084456262,
          0.08865221806110171,
          0.058719341719439946,
          0.041547682461127784,
          0.04729235490554587,
          0.10759073522170325,
          0.04379034807527925,
          0.10079575413896692,
          0.08994133167579187,
          0.08800656730495644,
          0.02884093144154566,
          0.07969558096797823,
          0.0998118393355348,
          0.015071737019685396,
          0.044600733794543955,
          0.061087633905105174,
          0.12763489731964237,
          0.03134590174116801,
          0.0944066150437273,
          0.09586178366072481,
          0.025865315705030242,
          0.11987042709608499,
          0.056537235979673306,
          0.030698436077729166,
          0.12638541940356812,
          0.10760263793472019,
          0.12970261974592096,
          0.03031440503492043,
          0.0883606261705192,
          0.07096742534237487,
          0.02497042689894655,
          0.10011344464083906,
          0.017556625033484576,
          0.09736492058002766,
          0.126780364818765,
          0.08072232168492877,
          0.02362020942428375,
          0.07184890478068906,
          0.10546823809083994,
          0.11925538034806141,
          0.0332271053601848,
          0.029540440569922232,
          0.12524497704433507,
          0.09283092513073934,
          0.09418844544762621,
          0.08475462253250712,
          0.10521485479765935,
          0.11672229969193328,
          0.08337661901893853,
          0.08601417535355087,
          0.045350464748566584,
          0.08340004964952406,
          0.05690832140881323,
          0.036842033214955446,
          0.12089917764582668,
          0.11041266445918702,
          0.10002410518373835,
          0.10847439085748005,
          0.02966316145647495,
          0.11112258081536244,
          0.07596547769980341,
          0.0910100082183985,
          0.0832231497831449,
          0.11031791209728262,
          0.124683008580519,
          0.10592235883019807,
          0.10583901827355147,
          0.0451726192156593,
          0.028901490616125583,
          0.09485499537251435,
          0.05929041158548204,
          0.11353882851517039,
          0.02758720896066703,
          0.06960914293712231,
          0.029790895496342205,
          0.0827708072505514,
          0.015791622655719026,
          0.06893261614408544,
          0.12613860569785074,
          0.07088742682577867,
          0.10258072026787816
         ],
         "y": [
          73.43469014084508,
          13.105084507042264,
          143.84791549295772,
          11.616957746478835,
          58.42281690140847,
          90.7544647887324,
          83.63200000000002,
          80.00504225352111,
          31.42143661971832,
          89.39161971830988,
          45.064957746478846,
          54.311577464788755,
          52.56808450704227,
          68.97684507042256,
          57.984436619718316,
          16.289873239436634,
          27.038732394366214,
          60.961957746478845,
          72.06300000000002,
          40.92314084507044,
          92.52404225352112,
          58.09829577464791,
          121.49933802816902,
          23.135704225352107,
          80.1605633802817,
          94.03678873239437,
          63.631464788732416,
          53.730901408450734,
          8.899380281690132,
          47.488295774647916,
          28.71095774647884,
          84.29263380281691,
          90.34478873239439,
          65.99480281690141,
          88.15838028169016,
          83.55735211267606,
          70.58352112676059,
          64.90047887323945,
          18.80395774647885,
          30.734957746478848,
          71.80105633802819,
          89.95507042253521,
          38.2038591549296,
          40.83533802816905,
          50.91104225352115,
          25.120957746478837,
          86.18884507042253,
          88.89178873239437,
          102.25150704225356,
          57.50118309859157,
          99.06135211267606,
          45.567661971831015,
          45.523957746478835,
          58.89695774647885,
          16.217661971831003,
          172.11904225352114,
          176.81104225352112,
          30.771957746478833,
          31.82921126760565,
          61.683295774647895,
          30.797281690140863,
          39.421577464788754,
          28.48064788732396,
          9.519436619718332,
          75.50201408450704,
          52.964704225352136,
          29.50470422535213,
          30.547028169014105,
          108.09904225352112,
          35.6683943661972,
          12.49640845070424,
          65.06119718309861,
          31.041816901408474,
          37.72170422535214,
          54.54295774647885,
          73.26880281690143,
          40.06838028169014,
          57.72257746478875,
          19.711253521126746,
          56.74495774647883,
          59.17898591549298,
          172.06504225352114,
          10.642281690140853,
          19.64269014084509,
          69.34204225352114,
          24.15659154929579,
          99.57215492957747,
          41.70645070422538,
          24.663605633802835,
          9.763859154929593,
          23.376647887323962,
          62.441957746478835,
          142.9210422535211,
          53.689661971831015,
          52.42995774647884,
          17.539971830985923,
          66.11292957746481,
          19.09595774647883,
          15.344492957746493,
          113.07581690140846,
          32.1475915492958,
          61.855563380281716,
          17.50391549295776,
          50.41380281690144,
          28.272352112676067,
          41.47954929577467,
          208.92104225352114,
          122.5354929577465,
          17.594154929577478,
          64.09095774647885,
          60.27095774647884,
          80.914323943662,
          104.97832394366198,
          12.35790140845072,
          90.86107042253522,
          67.70673239436621,
          42.047295774647914,
          122.42828169014084,
          33.771309859154954,
          138.28236619718314,
          82.37716901408453,
          44.47395774647886,
          72.60101408450706,
          80.22346478873241,
          41.370239436619734,
          64.25195774647884,
          103.03657746478873,
          68.61877464788734,
          112.17361971830988,
          102.26861971830988,
          23.608957746478836,
          46.31421126760566,
          53.56095774647885,
          45.35828169014086,
          96.16567605633804,
          15.177239436619702,
          113.73078873239439,
          116.31304225352112,
          45.04642253521128,
          73.19123943661974,
          99.28377464788731,
          26.051281690140865,
          22.79395774647884,
          50.11164788732397,
          201.05404225352112,
          63.54795774647884,
          60.04995774647885,
          79.07926760563382,
          14.569957746478835,
          35.5039577464789,
          134.5710422535211,
          55.49900000000002,
          49.98895774647886,
          15.268957746478858,
          61.20153521126762,
          113.4538309859155,
          93.58043661971834,
          82.45997183098594,
          51.789647887323966,
          63.05391549295776,
          70.38415492957748,
          84.13925352112678,
          110.84247887323944,
          57.90377464788733,
          100.65922535211268,
          131.11504225352112,
          38.18684507042256,
          30.111507042253486,
          112.84104225352112,
          25.959915492957762,
          20.874647887323963,
          29.108169014084524,
          81.93405633802818,
          57.56595774647889,
          82.74152112676059,
          74.84214084507043,
          85.47080281690143,
          16.27195774647884,
          21.22195774647884,
          14.795985915492958,
          25.510985915492977,
          61.13049295774647,
          49.98463380281692,
          58.17830985915494,
          19.880000000000017,
          57.37143661971833,
          41.68014084507044,
          21.717323943661995,
          108.88125352112675,
          39.95295774647884,
          41.26695774647884,
          64.60616901408453,
          55.11918309859158,
          29.41371830985917,
          39.4897605633803,
          70.40452112676059,
          20.553281690140857,
          84.86487323943663,
          61.556281690140864,
          48.011605633802844,
          119.95528169014086,
          53.48295774647883,
          18.117845070422526,
          28.89490140845072,
          57.88414084507044,
          10.142985915492943,
          59.26226760563383,
          67.73094366197185,
          121.81292957746481,
          47.53195774647884,
          18.164422535211287,
          60.797014084507055,
          52.86605633802819,
          53.515225352112694,
          119.51104225352113,
          12.80128169014086,
          72.91139436619719,
          117.20204225352113,
          118.58774647887324,
          68.77518309859155,
          78.43635211267609,
          78.89404225352114,
          51.730732394366214,
          177.4590422535211,
          70.52370422535213,
          64.52664788732395,
          55.52961971830989,
          85.427323943662,
          14.576957746478836,
          25.803957746478837,
          56.786957746478905,
          76.77318309859156,
          111.08307042253523,
          46.68995774647883,
          13.81387323943662,
          60.36319718309859,
          86.79984507042255,
          34.872464788732415,
          74.57261971830988,
          38.81295774647885,
          45.72997183098593,
          36.46871830985917,
          60.90395774647885,
          15.076197183098616,
          112.27405633802817,
          85.90977464788735,
          53.47295774647885,
          13.099098591549303,
          94.73626760563383,
          25.579225352112694,
          14.277690140845047,
          25.37595774647885,
          128.2409295774648,
          16.024746478873258,
          47.95152112676058,
          68.7154647887324,
          30.41519718309861,
          18.618295774647866,
          12.316408450704195,
          59.75395774647886,
          59.2770281690141,
          44.951042253521145,
          76.5052957746479,
          94.32195774647889,
          89.10930985915496,
          93.39404225352112,
          69.72273239436622,
          107.20561971830986,
          62.03795774647885,
          13.79508450704225,
          29.65080281690142,
          16.282309859154896,
          13.11970422535213,
          54.727957746478836,
          19.399380281690167,
          155.5830422535211,
          18.760957746478837,
          74.08011267605634,
          45.56605633802819,
          63.76795774647884,
          76.88029577464789,
          85.04002816901411,
          47.80595774647884,
          44.43995774647883,
          156.80504225352115,
          61.86195774647885,
          52.56260563380284,
          62.01095774647884,
          28.969352112676084,
          22.91109859154931,
          10.114098591549308,
          11.959126760563393,
          31.252957746478852,
          45.87995774647883,
          23.168957746478835,
          32.43795774647884,
          20.909126760563396,
          55.81657746478876,
          81.31315492957748,
          102.19445070422536,
          55.54670422535213,
          58.19146478873242,
          62.49495774647883,
          141.920661971831,
          120.16935211267607,
          28.46261971830988,
          21.755450704225375,
          128.16516901408454,
          25.78460563380286,
          25.634338028168983,
          71.19280281690143,
          151.15521126760564,
          55.19398591549297,
          43.15595774647884,
          159.62973239436621,
          44.84795774647884,
          38.84328169014087,
          70.4788591549296,
          52.76332394366199,
          29.458957746478887,
          53.6087605633803,
          21.52601408450706,
          49.42114084507043,
          60.33495774647885,
          61.35895774647885,
          171.78904225352113,
          12.883183098591568,
          26.603323943661987,
          6.499380281690149,
          108.68108450704226,
          70.3617042253521,
          62.50795774647885,
          10.034957746478835,
          159.51504225352113,
          95.2754647887324,
          59.853154929577485,
          98.52350704225353,
          55.47295774647884,
          46.45284507042255,
          29.141014084507063,
          28.410957746478854,
          28.768957746478854,
          96.30333802816902,
          143.38674647887325,
          19.573957746478836,
          45.88195774647885,
          38.72995774647885,
          42.64119718309861,
          86.36642253521129,
          135.950323943662,
          39.481521126760555,
          105.55507042253524,
          62.15773239436622,
          67.026661971831,
          114.03304225352112,
          37.90425352112679,
          42.71040845070426,
          107.37183098591551,
          44.88215492957748,
          30.34595774647885,
          63.53088732394367,
          58.90091549295777,
          119.58904225352111,
          68.70333802816903,
          142.54204225352112,
          53.09508450704227,
          25.410957746478836,
          48.24400000000003,
          56.61495774647884,
          65.22743661971833,
          29.617957746478858,
          37.68788732394368,
          74.46142253521128,
          129.64912676056338,
          90.74723943661975,
          105.28821126760563,
          32.304000000000016,
          69.87763380281692,
          72.11714084507044,
          49.310957746478834,
          40.27181690140847,
          48.36025352112678,
          55.61560563380283,
          45.56126760563382,
          17.38271830985917,
          61.886957746478856,
          105.51478873239436,
          27.09181690140847,
          23.932957746478863,
          32.631690140845095,
          24.886450704225368,
          55.00918309859158,
          9.928507042253518,
          61.51528169014087,
          66.70178873239438,
          27.036957746478837,
          102.35704225352113,
          60.96288732394369,
          12.435971830985924,
          109.64919718309861,
          110.66859154929578,
          62.06740845070425,
          67.04370422535213,
          33.281098591549316,
          12.471126760563365,
          58.633225352112696,
          39.76664788732397,
          34.46614084507044,
          124.00421126760565,
          148.70653521126764,
          44.296633802816935,
          49.837591549295794,
          163.37004225352112,
          83.932661971831,
          120.45204225352111,
          63.12195774647884,
          115.09504225352113,
          47.83953521126763,
          83.95204225352113,
          91.62240845070423,
          116.16178873239437,
          127.66704225352113,
          95.55445070422537,
          84.47370422535214,
          17.501957746478837,
          35.09874647887327,
          129.50735211267607,
          53.450957746478835,
          47.458239436619735,
          75.85178873239438,
          16.03845070422536,
          36.70354929577467,
          37.04747887323946,
          34.821816901408475,
          51.02425352112678,
          23.864422535211283,
          90.30009859154931,
          77.44190140845072,
          212.51604225352114,
          53.62502816901411,
          26.113380281690155,
          58.72295774647884,
          47.27852112676058,
          30.03305633802819,
          105.83266197183102,
          26.998957746478837,
          134.82052112676058,
          127.87814084507045,
          57.369957746478846,
          100.35704225352112,
          29.65397183098593,
          17.883225352112696,
          99.65798591549296,
          110.55984507042253,
          30.85138028169016,
          54.598873239436635,
          28.356464788732417,
          42.826957746478854,
          13.44871830985917,
          77.15545070422536,
          38.86653521126762,
          170.42260563380282,
          50.8322957746479,
          15.847704225352125,
          54.13595774647884,
          62.30318309859157,
          65.97361971830989,
          11.89760563380283,
          45.18921126760566,
          56.025211267605656,
          69.25712676056338,
          24.276549295774664,
          80.6665633802817,
          30.976704225352137,
          30.239267605633824,
          188.59004225352112,
          68.0620281690141,
          24.17095774647884,
          42.91073239436622,
          65.9912535211268,
          63.64657746478875,
          24.396422535211286,
          124.20942253521127,
          126.19761971830988,
          34.58390140845072,
          31.823859154929593,
          59.562000000000026,
          79.74083098591551,
          64.15084507042256,
          39.225535211267626,
          41.16036619718312,
          64.16195774647885,
          34.79254929577466,
          150.38204225352112,
          19.25495774647885,
          51.879887323943684,
          54.13284507042256,
          72.08930985915495,
          22.18919718309861,
          34.46133802816903,
          19.627957746478835,
          53.384197183098614,
          11.726929577464809,
          83.34011267605635,
          127.967661971831,
          32.7613943661972,
          11.46876056338029,
          14.83995774647886,
          87.34604225352112,
          45.67452112676058,
          14.804535211267613,
          41.29498591549299,
          121.54987323943664,
          111.53019718309861,
          58.529394366197195,
          60.99042253521127,
          47.71823943661974,
          49.289732394366226,
          19.786549295774662,
          52.80740845070426,
          92.85877464788732,
          90.95461971830986,
          65.35245070422538,
          31.244309859154946,
          137.2490422535211,
          51.01963380281692,
          40.98695774647885,
          35.7948591549296,
          59.220957746478845,
          103.50904225352114,
          67.35611267605634,
          22.10273239436616,
          25.41543661971834,
          88.21921126760566,
          61.90371830985919,
          14.444802816901412,
          56.70957746478875,
          31.107056338028183,
          63.728014084507066,
          67.53645070422537,
          38.237760563380306,
          60.777957746478855,
          137.43435211267607,
          11.222070422535209,
          19.712816901408473,
          39.72001408450706,
          11.367478873239433,
          43.909084507042266,
          14.392816901408466,
          47.2705915492958,
          59.832535211267626,
          82.70584507042254,
          61.76614084507044,
          146.03404225352114,
          62.03095774647885,
          60.980957746478865,
          18.409957746478852,
          35.1373943661972,
          9.235929577464796,
          9.660422535211275,
          75.53161971830987,
          36.16195774647886,
          20.67069014084509,
          115.55622535211268,
          104.88704225352113,
          32.06754929577466,
          30.00290140845073,
          60.042971830985934,
          92.86723943661973,
          27.906957746478827,
          87.75283098591551,
          88.22915492957748,
          52.26225352112678,
          27.364183098591568,
          114.83440845070422,
          72.1003661971831,
          20.025971830985902,
          86.34621126760565,
          26.397549295774667,
          89.6689295774648,
          62.078957746478835,
          67.55095774647887,
          46.70780281690144,
          54.41095774647884,
          64.23561971830989,
          35.13469014084509,
          18.95890140845073,
          48.74495774647884,
          51.367929577464814,
          55.66695774647884,
          31.228957746478834,
          28.68795774647885,
          14.509563380281705,
          11.137521126760587,
          11.874971830985928,
          29.277746478873254,
          71.85816901408452,
          77.83163380281692,
          94.05981690140847,
          89.22269014084509,
          117.24240845070425,
          91.47429577464791,
          31.023563380281715,
          11.071887323943677,
          19.906549295774678,
          140.7598028169014,
          35.44402816901412,
          103.13445070422537,
          38.960957746478854,
          33.83695774647883,
          14.47184507042255,
          37.462028169014104,
          121.54238028169014,
          87.42815492957749,
          94.59360563380284,
          106.85891549295776,
          61.33195774647885,
          58.55366197183101,
          13.974690140845059,
          53.64580281690143,
          21.539985915492974,
          20.873971830985923,
          78.0165915492958,
          81.2705211267606,
          91.57504225352113,
          108.63357746478876,
          40.54873239436622,
          49.25370422535214,
          96.86553521126763,
          61.16295774647885,
          43.344619718309865,
          25.511957746478892,
          58.6613943661972,
          59.418704225352144,
          80.90604225352112,
          76.99552112676058,
          19.95138028169017,
          26.691295774647898,
          18.799352112676075,
          34.6833943661972,
          31.064464788732415,
          142.15904225352114,
          20.486112676056358,
          99.15156338028169,
          101.71969014084507,
          96.5950985915493,
          69.31967605633805,
          80.20418309859156,
          17.574140845070428,
          28.527957746478833,
          28.984352112676078,
          69.74350704225355,
          162.5710422535211,
          36.48995774647883,
          70.11264788732397,
          109.65621126760564,
          88.77323943661973,
          49.451521126760596,
          80.90921126760566,
          117.57981690140846,
          19.847521126760583,
          17.124577464788743,
          29.27869014084509,
          55.923957746478834,
          9.362408450704237,
          45.56847887323946,
          90.8635070422535,
          77.27132394366197,
          35.616732394366224,
          161.3980422535211,
          54.4970281690141,
          67.19919718309862,
          26.834957746478835,
          58.32625352112677,
          49.63947887323946,
          81.98001408450703,
          63.06995774647885,
          49.599957746478836,
          15.247507042253531,
          58.369957746478846,
          60.80511267605636,
          22.40764788732396,
          101.3290985915493,
          171.96004225352112,
          26.09395774647883,
          51.55750704225355,
          28.57950704225354,
          75.81621126760564,
          104.10370422535212,
          86.77284507042256,
          59.06249295774649,
          64.35884507042256,
          16.903746478873256,
          27.013957746478855,
          29.18719718309861,
          19.316732394366216,
          64.23663380281693,
          59.089957746478845,
          78.94152112676058,
          140.69666197183102,
          149.79504225352113,
          109.4438309859155,
          7.490338028169031,
          90.97032394366198,
          114.78580281690141,
          35.55295774647885,
          209.63304225352113,
          16.040957746478835,
          27.619957746478853,
          91.75222535211269,
          79.76608450704225,
          138.08700000000002,
          92.54850704225353,
          29.48754929577467,
          26.219887323943677,
          41.88095774647885,
          112.8243943661972,
          54.782408450704224,
          50.78223943661973,
          50.66705633802819,
          53.71432394366199,
          60.00114084507044,
          13.981295774647894,
          95.96861971830987,
          87.87304225352113,
          64.5362535211268,
          44.90266197183101,
          52.56795774647883,
          24.706056338028123,
          17.987957746478834,
          28.375957746478836,
          64.20723943661974,
          44.676169014084536,
          35.978605633802836,
          103.72777464788734,
          40.6397605633803,
          134.82604225352114,
          179.5590422535211,
          61.77695774647886,
          19.270422535211285,
          21.03016901408452,
          43.64419718309861,
          22.14381690140844,
          86.0851267605634,
          28.1487605633803,
          20.188957746478835,
          107.4843661971831,
          33.151661971831004,
          51.28595774647885,
          89.63660563380283,
          23.654464788732383,
          51.575521126760584,
          41.45109859154931,
          76.08973239436622,
          36.04847887323946,
          34.67609859154931,
          109.28045070422537,
          64.19395774647884,
          62.998957746478844,
          47.25529577464789,
          14.072971830985932,
          25.844422535211287,
          12.11773239436622,
          110.02974647887325,
          39.577957746478894,
          56.85483098591551,
          31.794830985915514,
          63.71095774647884,
          81.10015492957749,
          40.91095774647883,
          89.8462253521127,
          54.35870422535213,
          68.01450704225354,
          42.39595774647885,
          75.46794366197184,
          86.01505633802819,
          75.18316901408453,
          139.98074647887324,
          48.12283098591551,
          60.78695774647885,
          24.68960563380282,
          88.9915633802817,
          76.18804225352115,
          115.27853521126761,
          62.52995774647885,
          22.13302816901406,
          113.85404225352111,
          43.6935915492958,
          47.35492957746481,
          57.90428169014086,
          47.59521126760565,
          110.33635211267607,
          64.52664788732396,
          148.60204225352112,
          47.667084507042276,
          14.044957746478834,
          65.85746478873241,
          8.119521126760551,
          130.8263943661972,
          45.869352112676076,
          43.49891549295777,
          80.94376056338031,
          23.34378873239435,
          31.044957746478836,
          115.91304225352113,
          20.66232394366199,
          27.531859154929585,
          43.6925633802817,
          57.44595774647884,
          44.63795774647885,
          109.57477464788732,
          55.548605633802836,
          84.24245070422538,
          108.18470422535212,
          26.753901408450723,
          95.03404225352112,
          126.49877464788732,
          38.47295774647885,
          57.09561971830986,
          50.610126760563396,
          34.402126760563405,
          79.26021126760564,
          65.547323943662,
          72.89526760563382,
          108.84564788732396,
          12.625422535211278,
          73.85290140845072,
          29.479859154929596,
          38.27419718309861,
          52.81157746478874,
          39.88874647887326,
          50.73447887323946,
          78.24498591549298,
          55.954957746478826,
          77.05867605633804,
          69.33760563380284,
          22.92452112676058,
          34.35174647887326,
          118.56345070422536,
          116.76380281690143,
          17.152774647887334,
          33.02115492957749,
          95.78453521126764,
          78.21245070422538,
          130.2107605633803,
          37.780140845070434,
          48.060661971831,
          17.06130985915494,
          13.25443661971832,
          55.43412676056341,
          70.96769014084508,
          38.41938028169016,
          54.03166197183101,
          70.54212676056339,
          139.9262676056338,
          82.02183098591551,
          20.004957746478837,
          21.351112676056346,
          16.706873239436632,
          42.66395774647886,
          87.24943661971831,
          18.084957746478835,
          143.46615492957747,
          41.46995774647884,
          10.196154929577444,
          93.40628169014086,
          45.22495774647885,
          21.043450704225364,
          14.180239436619711,
          52.96494366197186,
          23.612549295774663,
          20.377915492957758,
          26.592957746478838,
          85.9510281690141,
          41.8692253521127,
          45.92528169014087,
          44.389492957746484,
          73.97621126760566,
          105.21842253521127,
          41.81297183098594,
          53.91518309859157,
          53.06395774647885,
          31.759591549295795,
          57.773859154929596,
          11.891211267605634,
          16.430549295774668,
          49.52695774647886,
          35.389901408450726,
          42.81984507042256,
          53.32816901408452,
          73.2030281690141,
          56.73195774647884,
          64.21095774647884,
          89.47490140845072,
          40.914366197183114,
          19.38070422535214,
          24.22395774647885,
          150.5350422535211,
          39.71742253521129,
          75.34150704225354,
          63.50595774647884,
          49.236619718309875,
          49.04995774647883,
          84.79011267605635,
          32.75925352112678,
          60.16395774647886,
          63.01795774647884,
          32.79078873239438,
          47.87961971830988,
          52.65330985915495,
          108.91478873239438,
          26.456394366197195,
          33.628042253521144,
          49.09584507042257,
          14.652169014084503,
          38.21097183098593,
          17.567408450704214,
          121.21581690140846,
          29.044661971831,
          23.355971830985933,
          55.00166197183101,
          21.510845070422548,
          16.23704225352112,
          31.841323943662,
          41.274901408450724,
          57.22118309859157,
          49.32454929577467,
          61.42035211267607,
          78.55921126760565,
          43.46695774647885,
          48.28853521126763,
          69.63545070422536,
          62.13695774647884,
          26.388957746478837,
          35.04790140845073,
          83.54463380281692,
          27.383478873239447,
          74.91111267605635,
          103.21904225352111,
          26.221295774647896,
          139.15804225352113,
          34.33960563380283,
          16.793464788732408,
          115.23947887323945,
          97.8974929577465,
          133.0520422535211,
          56.375492957746474,
          66.99088732394368,
          59.177563380281704,
          63.81195774647884,
          47.50352112676059,
          52.31295774647885,
          161.77754929577463,
          132.23111267605634,
          28.3930281690141,
          36.44659154929581,
          29.28621126760565,
          94.1504929577465,
          63.625253521126794,
          15.154887323943678,
          63.17195774647884,
          95.59674647887326,
          60.237971830985956,
          78.2480422535211,
          79.15453521126763,
          36.98561971830988,
          69.84652112676058,
          87.93826760563383,
          90.21754929577465,
          16.2048591549296,
          86.47607042253523,
          9.191267605633815,
          43.965957746478836,
          82.42323943661974,
          99.9184929577465,
          64.79187323943665,
          106.16715492957749,
          24.051380281690136,
          54.2018591549296,
          26.361197183098607,
          87.63084507042254,
          47.509338028169026,
          139.7426056338028,
          93.01739436619718,
          80.31098591549295,
          103.78801408450707,
          16.297845070422557,
          54.16195774647883,
          79.268323943662,
          58.288760563380286,
          163.10704225352112,
          16.139169014084484,
          23.535408450704246,
          129.6440281690141,
          46.44223943661975,
          54.26595774647883,
          65.32891549295776,
          196.35804225352112,
          29.8027605633803,
          70.20052112676058
         ]
        },
        {
         "hovertemplate": "s: %{x:.3f}<br>Wasserstein distance: %{y:.1f}",
         "marker": {
          "color": "turquoise",
          "size": 8
         },
         "mode": "markers",
         "name": "5% smallest distances",
         "type": "scatter",
         "x": [
          0.045324707675611246,
          0.033306441960298694,
          0.02747523080775805,
          0.05964432506330634,
          0.05690832140881323,
          0.08299987097272746,
          0.07234126477656594,
          0.08541047619298658,
          0.03020920055775104,
          0.037797521584597454,
          0.04794923373848143,
          0.049009656605361065,
          0.03939568578885594,
          0.04297695334733882,
          0.031263026196449856,
          0.047140845504731715,
          0.07849147537178625,
          0.10160648729682556,
          0.05922398787037476,
          0.0465075911569289,
          0.030291497695484886,
          0.08598245932169703,
          0.045811293529772874,
          0.04132108251395018,
          0.054006282237780576,
          0.040566716877020056,
          0.048606451176488846,
          0.046126405963603664,
          0.05484477171154093,
          0.04069542534303497,
          0.06432870768984864,
          0.06621336130618702,
          0.05207908610762216,
          0.059095748210810414,
          0.03266539031947592,
          0.055397285806897685,
          0.09948673692125584,
          0.05759467065948239,
          0.036476807276279846,
          0.047433517609971276,
          0.042771318105474895,
          0.04830807063318886,
          0.02289598928026739,
          0.050146000510226094,
          0.04773463926913745,
          0.052576602145778015,
          0.06343899440620641,
          0.05200845116084413,
          0.06387150072914755,
          0.04410582806636101
         ],
         "y": [
          6.499380281690149,
          7.490338028169031,
          8.119521126760551,
          8.899380281690132,
          9.191267605633815,
          9.235929577464796,
          9.362408450704237,
          9.519436619718332,
          9.660422535211275,
          9.763859154929593,
          9.928507042253518,
          10.034957746478835,
          10.114098591549308,
          10.142985915492943,
          10.196154929577444,
          10.642281690140853,
          11.071887323943677,
          11.137521126760587,
          11.222070422535209,
          11.367478873239433,
          11.46876056338029,
          11.616957746478835,
          11.726929577464809,
          11.874971830985928,
          11.891211267605634,
          11.89760563380283,
          11.959126760563393,
          12.11773239436622,
          12.316408450704195,
          12.35790140845072,
          12.435971830985924,
          12.471126760563365,
          12.49640845070424,
          12.625422535211278,
          12.80128169014086,
          12.883183098591568,
          13.099098591549303,
          13.105084507042264,
          13.11970422535213,
          13.25443661971832,
          13.44871830985917,
          13.79508450704225,
          13.81387323943662,
          13.974690140845059,
          13.981295774647894,
          14.044957746478834,
          14.072971830985932,
          14.180239436619711,
          14.277690140845047,
          14.392816901408466
         ]
        }
       ],
       "layout": {
        "plot_bgcolor": "white",
        "template": {
         "data": {
          "bar": [
           {
            "error_x": {
             "color": "#2a3f5f"
            },
            "error_y": {
             "color": "#2a3f5f"
            },
            "marker": {
             "line": {
              "color": "#E5ECF6",
              "width": 0.5
             },
             "pattern": {
              "fillmode": "overlay",
              "size": 10,
              "solidity": 0.2
             }
            },
            "type": "bar"
           }
          ],
          "barpolar": [
           {
            "marker": {
             "line": {
              "color": "#E5ECF6",
              "width": 0.5
             },
             "pattern": {
              "fillmode": "overlay",
              "size": 10,
              "solidity": 0.2
             }
            },
            "type": "barpolar"
           }
          ],
          "carpet": [
           {
            "aaxis": {
             "endlinecolor": "#2a3f5f",
             "gridcolor": "white",
             "linecolor": "white",
             "minorgridcolor": "white",
             "startlinecolor": "#2a3f5f"
            },
            "baxis": {
             "endlinecolor": "#2a3f5f",
             "gridcolor": "white",
             "linecolor": "white",
             "minorgridcolor": "white",
             "startlinecolor": "#2a3f5f"
            },
            "type": "carpet"
           }
          ],
          "choropleth": [
           {
            "colorbar": {
             "outlinewidth": 0,
             "ticks": ""
            },
            "type": "choropleth"
           }
          ],
          "contour": [
           {
            "colorbar": {
             "outlinewidth": 0,
             "ticks": ""
            },
            "colorscale": [
             [
              0,
              "#0d0887"
             ],
             [
              0.1111111111111111,
              "#46039f"
             ],
             [
              0.2222222222222222,
              "#7201a8"
             ],
             [
              0.3333333333333333,
              "#9c179e"
             ],
             [
              0.4444444444444444,
              "#bd3786"
             ],
             [
              0.5555555555555556,
              "#d8576b"
             ],
             [
              0.6666666666666666,
              "#ed7953"
             ],
             [
              0.7777777777777778,
              "#fb9f3a"
             ],
             [
              0.8888888888888888,
              "#fdca26"
             ],
             [
              1,
              "#f0f921"
             ]
            ],
            "type": "contour"
           }
          ],
          "contourcarpet": [
           {
            "colorbar": {
             "outlinewidth": 0,
             "ticks": ""
            },
            "type": "contourcarpet"
           }
          ],
          "heatmap": [
           {
            "colorbar": {
             "outlinewidth": 0,
             "ticks": ""
            },
            "colorscale": [
             [
              0,
              "#0d0887"
             ],
             [
              0.1111111111111111,
              "#46039f"
             ],
             [
              0.2222222222222222,
              "#7201a8"
             ],
             [
              0.3333333333333333,
              "#9c179e"
             ],
             [
              0.4444444444444444,
              "#bd3786"
             ],
             [
              0.5555555555555556,
              "#d8576b"
             ],
             [
              0.6666666666666666,
              "#ed7953"
             ],
             [
              0.7777777777777778,
              "#fb9f3a"
             ],
             [
              0.8888888888888888,
              "#fdca26"
             ],
             [
              1,
              "#f0f921"
             ]
            ],
            "type": "heatmap"
           }
          ],
          "heatmapgl": [
           {
            "colorbar": {
             "outlinewidth": 0,
             "ticks": ""
            },
            "colorscale": [
             [
              0,
              "#0d0887"
             ],
             [
              0.1111111111111111,
              "#46039f"
             ],
             [
              0.2222222222222222,
              "#7201a8"
             ],
             [
              0.3333333333333333,
              "#9c179e"
             ],
             [
              0.4444444444444444,
              "#bd3786"
             ],
             [
              0.5555555555555556,
              "#d8576b"
             ],
             [
              0.6666666666666666,
              "#ed7953"
             ],
             [
              0.7777777777777778,
              "#fb9f3a"
             ],
             [
              0.8888888888888888,
              "#fdca26"
             ],
             [
              1,
              "#f0f921"
             ]
            ],
            "type": "heatmapgl"
           }
          ],
          "histogram": [
           {
            "marker": {
             "pattern": {
              "fillmode": "overlay",
              "size": 10,
              "solidity": 0.2
             }
            },
            "type": "histogram"
           }
          ],
          "histogram2d": [
           {
            "colorbar": {
             "outlinewidth": 0,
             "ticks": ""
            },
            "colorscale": [
             [
              0,
              "#0d0887"
             ],
             [
              0.1111111111111111,
              "#46039f"
             ],
             [
              0.2222222222222222,
              "#7201a8"
             ],
             [
              0.3333333333333333,
              "#9c179e"
             ],
             [
              0.4444444444444444,
              "#bd3786"
             ],
             [
              0.5555555555555556,
              "#d8576b"
             ],
             [
              0.6666666666666666,
              "#ed7953"
             ],
             [
              0.7777777777777778,
              "#fb9f3a"
             ],
             [
              0.8888888888888888,
              "#fdca26"
             ],
             [
              1,
              "#f0f921"
             ]
            ],
            "type": "histogram2d"
           }
          ],
          "histogram2dcontour": [
           {
            "colorbar": {
             "outlinewidth": 0,
             "ticks": ""
            },
            "colorscale": [
             [
              0,
              "#0d0887"
             ],
             [
              0.1111111111111111,
              "#46039f"
             ],
             [
              0.2222222222222222,
              "#7201a8"
             ],
             [
              0.3333333333333333,
              "#9c179e"
             ],
             [
              0.4444444444444444,
              "#bd3786"
             ],
             [
              0.5555555555555556,
              "#d8576b"
             ],
             [
              0.6666666666666666,
              "#ed7953"
             ],
             [
              0.7777777777777778,
              "#fb9f3a"
             ],
             [
              0.8888888888888888,
              "#fdca26"
             ],
             [
              1,
              "#f0f921"
             ]
            ],
            "type": "histogram2dcontour"
           }
          ],
          "mesh3d": [
           {
            "colorbar": {
             "outlinewidth": 0,
             "ticks": ""
            },
            "type": "mesh3d"
           }
          ],
          "parcoords": [
           {
            "line": {
             "colorbar": {
              "outlinewidth": 0,
              "ticks": ""
             }
            },
            "type": "parcoords"
           }
          ],
          "pie": [
           {
            "automargin": true,
            "type": "pie"
           }
          ],
          "scatter": [
           {
            "fillpattern": {
             "fillmode": "overlay",
             "size": 10,
             "solidity": 0.2
            },
            "type": "scatter"
           }
          ],
          "scatter3d": [
           {
            "line": {
             "colorbar": {
              "outlinewidth": 0,
              "ticks": ""
             }
            },
            "marker": {
             "colorbar": {
              "outlinewidth": 0,
              "ticks": ""
             }
            },
            "type": "scatter3d"
           }
          ],
          "scattercarpet": [
           {
            "marker": {
             "colorbar": {
              "outlinewidth": 0,
              "ticks": ""
             }
            },
            "type": "scattercarpet"
           }
          ],
          "scattergeo": [
           {
            "marker": {
             "colorbar": {
              "outlinewidth": 0,
              "ticks": ""
             }
            },
            "type": "scattergeo"
           }
          ],
          "scattergl": [
           {
            "marker": {
             "colorbar": {
              "outlinewidth": 0,
              "ticks": ""
             }
            },
            "type": "scattergl"
           }
          ],
          "scattermapbox": [
           {
            "marker": {
             "colorbar": {
              "outlinewidth": 0,
              "ticks": ""
             }
            },
            "type": "scattermapbox"
           }
          ],
          "scatterpolar": [
           {
            "marker": {
             "colorbar": {
              "outlinewidth": 0,
              "ticks": ""
             }
            },
            "type": "scatterpolar"
           }
          ],
          "scatterpolargl": [
           {
            "marker": {
             "colorbar": {
              "outlinewidth": 0,
              "ticks": ""
             }
            },
            "type": "scatterpolargl"
           }
          ],
          "scatterternary": [
           {
            "marker": {
             "colorbar": {
              "outlinewidth": 0,
              "ticks": ""
             }
            },
            "type": "scatterternary"
           }
          ],
          "surface": [
           {
            "colorbar": {
             "outlinewidth": 0,
             "ticks": ""
            },
            "colorscale": [
             [
              0,
              "#0d0887"
             ],
             [
              0.1111111111111111,
              "#46039f"
             ],
             [
              0.2222222222222222,
              "#7201a8"
             ],
             [
              0.3333333333333333,
              "#9c179e"
             ],
             [
              0.4444444444444444,
              "#bd3786"
             ],
             [
              0.5555555555555556,
              "#d8576b"
             ],
             [
              0.6666666666666666,
              "#ed7953"
             ],
             [
              0.7777777777777778,
              "#fb9f3a"
             ],
             [
              0.8888888888888888,
              "#fdca26"
             ],
             [
              1,
              "#f0f921"
             ]
            ],
            "type": "surface"
           }
          ],
          "table": [
           {
            "cells": {
             "fill": {
              "color": "#EBF0F8"
             },
             "line": {
              "color": "white"
             }
            },
            "header": {
             "fill": {
              "color": "#C8D4E3"
             },
             "line": {
              "color": "white"
             }
            },
            "type": "table"
           }
          ]
         },
         "layout": {
          "annotationdefaults": {
           "arrowcolor": "#2a3f5f",
           "arrowhead": 0,
           "arrowwidth": 1
          },
          "autotypenumbers": "strict",
          "coloraxis": {
           "colorbar": {
            "outlinewidth": 0,
            "ticks": ""
           }
          },
          "colorscale": {
           "diverging": [
            [
             0,
             "#8e0152"
            ],
            [
             0.1,
             "#c51b7d"
            ],
            [
             0.2,
             "#de77ae"
            ],
            [
             0.3,
             "#f1b6da"
            ],
            [
             0.4,
             "#fde0ef"
            ],
            [
             0.5,
             "#f7f7f7"
            ],
            [
             0.6,
             "#e6f5d0"
            ],
            [
             0.7,
             "#b8e186"
            ],
            [
             0.8,
             "#7fbc41"
            ],
            [
             0.9,
             "#4d9221"
            ],
            [
             1,
             "#276419"
            ]
           ],
           "sequential": [
            [
             0,
             "#0d0887"
            ],
            [
             0.1111111111111111,
             "#46039f"
            ],
            [
             0.2222222222222222,
             "#7201a8"
            ],
            [
             0.3333333333333333,
             "#9c179e"
            ],
            [
             0.4444444444444444,
             "#bd3786"
            ],
            [
             0.5555555555555556,
             "#d8576b"
            ],
            [
             0.6666666666666666,
             "#ed7953"
            ],
            [
             0.7777777777777778,
             "#fb9f3a"
            ],
            [
             0.8888888888888888,
             "#fdca26"
            ],
            [
             1,
             "#f0f921"
            ]
           ],
           "sequentialminus": [
            [
             0,
             "#0d0887"
            ],
            [
             0.1111111111111111,
             "#46039f"
            ],
            [
             0.2222222222222222,
             "#7201a8"
            ],
            [
             0.3333333333333333,
             "#9c179e"
            ],
            [
             0.4444444444444444,
             "#bd3786"
            ],
            [
             0.5555555555555556,
             "#d8576b"
            ],
            [
             0.6666666666666666,
             "#ed7953"
            ],
            [
             0.7777777777777778,
             "#fb9f3a"
            ],
            [
             0.8888888888888888,
             "#fdca26"
            ],
            [
             1,
             "#f0f921"
            ]
           ]
          },
          "colorway": [
           "#636efa",
           "#EF553B",
           "#00cc96",
           "#ab63fa",
           "#FFA15A",
           "#19d3f3",
           "#FF6692",
           "#B6E880",
           "#FF97FF",
           "#FECB52"
          ],
          "font": {
           "color": "#2a3f5f"
          },
          "geo": {
           "bgcolor": "white",
           "lakecolor": "white",
           "landcolor": "#E5ECF6",
           "showlakes": true,
           "showland": true,
           "subunitcolor": "white"
          },
          "hoverlabel": {
           "align": "left"
          },
          "hovermode": "closest",
          "mapbox": {
           "style": "light"
          },
          "paper_bgcolor": "white",
          "plot_bgcolor": "#E5ECF6",
          "polar": {
           "angularaxis": {
            "gridcolor": "white",
            "linecolor": "white",
            "ticks": ""
           },
           "bgcolor": "#E5ECF6",
           "radialaxis": {
            "gridcolor": "white",
            "linecolor": "white",
            "ticks": ""
           }
          },
          "scene": {
           "xaxis": {
            "backgroundcolor": "#E5ECF6",
            "gridcolor": "white",
            "gridwidth": 2,
            "linecolor": "white",
            "showbackground": true,
            "ticks": "",
            "zerolinecolor": "white"
           },
           "yaxis": {
            "backgroundcolor": "#E5ECF6",
            "gridcolor": "white",
            "gridwidth": 2,
            "linecolor": "white",
            "showbackground": true,
            "ticks": "",
            "zerolinecolor": "white"
           },
           "zaxis": {
            "backgroundcolor": "#E5ECF6",
            "gridcolor": "white",
            "gridwidth": 2,
            "linecolor": "white",
            "showbackground": true,
            "ticks": "",
            "zerolinecolor": "white"
           }
          },
          "shapedefaults": {
           "line": {
            "color": "#2a3f5f"
           }
          },
          "ternary": {
           "aaxis": {
            "gridcolor": "white",
            "linecolor": "white",
            "ticks": ""
           },
           "baxis": {
            "gridcolor": "white",
            "linecolor": "white",
            "ticks": ""
           },
           "bgcolor": "#E5ECF6",
           "caxis": {
            "gridcolor": "white",
            "linecolor": "white",
            "ticks": ""
           }
          },
          "title": {
           "x": 0.05
          },
          "xaxis": {
           "automargin": true,
           "gridcolor": "white",
           "linecolor": "white",
           "ticks": "",
           "title": {
            "standoff": 15
           },
           "zerolinecolor": "white",
           "zerolinewidth": 2
          },
          "yaxis": {
           "automargin": true,
           "gridcolor": "white",
           "linecolor": "white",
           "ticks": "",
           "title": {
            "standoff": 15
           },
           "zerolinecolor": "white",
           "zerolinewidth": 2
          }
         }
        },
        "xaxis": {
         "title": {
          "text": "s"
         }
        },
        "yaxis": {
         "title": {
          "text": "Distance"
         }
        }
       }
      }
     },
     "metadata": {},
     "output_type": "display_data"
    }
   ],
   "source": [
    "plot_best_points_util(s_values, distances, metric, top_percent=5, save=True, filepath='plots/best_points.png')"
   ]
  },
  {
   "cell_type": "code",
   "execution_count": 10,
   "metadata": {},
   "outputs": [
    {
     "data": {
      "text/plain": [
       "50"
      ]
     },
     "execution_count": 10,
     "metadata": {},
     "output_type": "execute_result"
    }
   ],
   "source": [
    "top_percent = 5\n",
    "smallest_indices = get_best_indices(distances, top_percent)\n",
    "top_s_values = np.array(s_values)[smallest_indices].tolist()\n",
    "len(top_s_values)"
   ]
  },
  {
   "cell_type": "code",
   "execution_count": 23,
   "metadata": {},
   "outputs": [
    {
     "data": {
      "application/vnd.plotly.v1+json": {
       "config": {
        "plotlyServerURL": "https://plot.ly"
       },
       "data": [
        {
         "histnorm": "probability density",
         "marker": {
          "color": "coral",
          "pattern": {
           "shape": ""
          }
         },
         "name": "top 5%",
         "opacity": 1,
         "type": "histogram",
         "x": [
          0.045324707675611246,
          0.033306441960298694,
          0.02747523080775805,
          0.05964432506330634,
          0.05690832140881323,
          0.08299987097272746,
          0.07234126477656594,
          0.08541047619298658,
          0.03020920055775104,
          0.037797521584597454,
          0.04794923373848143,
          0.049009656605361065,
          0.03939568578885594,
          0.04297695334733882,
          0.031263026196449856,
          0.047140845504731715,
          0.07849147537178625,
          0.10160648729682556,
          0.05922398787037476,
          0.0465075911569289,
          0.030291497695484886,
          0.08598245932169703,
          0.045811293529772874,
          0.04132108251395018,
          0.054006282237780576,
          0.040566716877020056,
          0.048606451176488846,
          0.046126405963603664,
          0.05484477171154093,
          0.04069542534303497,
          0.06432870768984864,
          0.06621336130618702,
          0.05207908610762216,
          0.059095748210810414,
          0.03266539031947592,
          0.055397285806897685,
          0.09948673692125584,
          0.05759467065948239,
          0.036476807276279846,
          0.047433517609971276,
          0.042771318105474895,
          0.04830807063318886,
          0.02289598928026739,
          0.050146000510226094,
          0.04773463926913745,
          0.052576602145778015,
          0.06343899440620641,
          0.05200845116084413,
          0.06387150072914755,
          0.04410582806636101
         ],
         "xbins": {
          "size": 0.005
         }
        }
       ],
       "layout": {
        "bargap": 0.1,
        "barmode": "overlay",
        "plot_bgcolor": "white",
        "template": {
         "data": {
          "bar": [
           {
            "error_x": {
             "color": "#2a3f5f"
            },
            "error_y": {
             "color": "#2a3f5f"
            },
            "marker": {
             "line": {
              "color": "#E5ECF6",
              "width": 0.5
             },
             "pattern": {
              "fillmode": "overlay",
              "size": 10,
              "solidity": 0.2
             }
            },
            "type": "bar"
           }
          ],
          "barpolar": [
           {
            "marker": {
             "line": {
              "color": "#E5ECF6",
              "width": 0.5
             },
             "pattern": {
              "fillmode": "overlay",
              "size": 10,
              "solidity": 0.2
             }
            },
            "type": "barpolar"
           }
          ],
          "carpet": [
           {
            "aaxis": {
             "endlinecolor": "#2a3f5f",
             "gridcolor": "white",
             "linecolor": "white",
             "minorgridcolor": "white",
             "startlinecolor": "#2a3f5f"
            },
            "baxis": {
             "endlinecolor": "#2a3f5f",
             "gridcolor": "white",
             "linecolor": "white",
             "minorgridcolor": "white",
             "startlinecolor": "#2a3f5f"
            },
            "type": "carpet"
           }
          ],
          "choropleth": [
           {
            "colorbar": {
             "outlinewidth": 0,
             "ticks": ""
            },
            "type": "choropleth"
           }
          ],
          "contour": [
           {
            "colorbar": {
             "outlinewidth": 0,
             "ticks": ""
            },
            "colorscale": [
             [
              0,
              "#0d0887"
             ],
             [
              0.1111111111111111,
              "#46039f"
             ],
             [
              0.2222222222222222,
              "#7201a8"
             ],
             [
              0.3333333333333333,
              "#9c179e"
             ],
             [
              0.4444444444444444,
              "#bd3786"
             ],
             [
              0.5555555555555556,
              "#d8576b"
             ],
             [
              0.6666666666666666,
              "#ed7953"
             ],
             [
              0.7777777777777778,
              "#fb9f3a"
             ],
             [
              0.8888888888888888,
              "#fdca26"
             ],
             [
              1,
              "#f0f921"
             ]
            ],
            "type": "contour"
           }
          ],
          "contourcarpet": [
           {
            "colorbar": {
             "outlinewidth": 0,
             "ticks": ""
            },
            "type": "contourcarpet"
           }
          ],
          "heatmap": [
           {
            "colorbar": {
             "outlinewidth": 0,
             "ticks": ""
            },
            "colorscale": [
             [
              0,
              "#0d0887"
             ],
             [
              0.1111111111111111,
              "#46039f"
             ],
             [
              0.2222222222222222,
              "#7201a8"
             ],
             [
              0.3333333333333333,
              "#9c179e"
             ],
             [
              0.4444444444444444,
              "#bd3786"
             ],
             [
              0.5555555555555556,
              "#d8576b"
             ],
             [
              0.6666666666666666,
              "#ed7953"
             ],
             [
              0.7777777777777778,
              "#fb9f3a"
             ],
             [
              0.8888888888888888,
              "#fdca26"
             ],
             [
              1,
              "#f0f921"
             ]
            ],
            "type": "heatmap"
           }
          ],
          "heatmapgl": [
           {
            "colorbar": {
             "outlinewidth": 0,
             "ticks": ""
            },
            "colorscale": [
             [
              0,
              "#0d0887"
             ],
             [
              0.1111111111111111,
              "#46039f"
             ],
             [
              0.2222222222222222,
              "#7201a8"
             ],
             [
              0.3333333333333333,
              "#9c179e"
             ],
             [
              0.4444444444444444,
              "#bd3786"
             ],
             [
              0.5555555555555556,
              "#d8576b"
             ],
             [
              0.6666666666666666,
              "#ed7953"
             ],
             [
              0.7777777777777778,
              "#fb9f3a"
             ],
             [
              0.8888888888888888,
              "#fdca26"
             ],
             [
              1,
              "#f0f921"
             ]
            ],
            "type": "heatmapgl"
           }
          ],
          "histogram": [
           {
            "marker": {
             "pattern": {
              "fillmode": "overlay",
              "size": 10,
              "solidity": 0.2
             }
            },
            "type": "histogram"
           }
          ],
          "histogram2d": [
           {
            "colorbar": {
             "outlinewidth": 0,
             "ticks": ""
            },
            "colorscale": [
             [
              0,
              "#0d0887"
             ],
             [
              0.1111111111111111,
              "#46039f"
             ],
             [
              0.2222222222222222,
              "#7201a8"
             ],
             [
              0.3333333333333333,
              "#9c179e"
             ],
             [
              0.4444444444444444,
              "#bd3786"
             ],
             [
              0.5555555555555556,
              "#d8576b"
             ],
             [
              0.6666666666666666,
              "#ed7953"
             ],
             [
              0.7777777777777778,
              "#fb9f3a"
             ],
             [
              0.8888888888888888,
              "#fdca26"
             ],
             [
              1,
              "#f0f921"
             ]
            ],
            "type": "histogram2d"
           }
          ],
          "histogram2dcontour": [
           {
            "colorbar": {
             "outlinewidth": 0,
             "ticks": ""
            },
            "colorscale": [
             [
              0,
              "#0d0887"
             ],
             [
              0.1111111111111111,
              "#46039f"
             ],
             [
              0.2222222222222222,
              "#7201a8"
             ],
             [
              0.3333333333333333,
              "#9c179e"
             ],
             [
              0.4444444444444444,
              "#bd3786"
             ],
             [
              0.5555555555555556,
              "#d8576b"
             ],
             [
              0.6666666666666666,
              "#ed7953"
             ],
             [
              0.7777777777777778,
              "#fb9f3a"
             ],
             [
              0.8888888888888888,
              "#fdca26"
             ],
             [
              1,
              "#f0f921"
             ]
            ],
            "type": "histogram2dcontour"
           }
          ],
          "mesh3d": [
           {
            "colorbar": {
             "outlinewidth": 0,
             "ticks": ""
            },
            "type": "mesh3d"
           }
          ],
          "parcoords": [
           {
            "line": {
             "colorbar": {
              "outlinewidth": 0,
              "ticks": ""
             }
            },
            "type": "parcoords"
           }
          ],
          "pie": [
           {
            "automargin": true,
            "type": "pie"
           }
          ],
          "scatter": [
           {
            "fillpattern": {
             "fillmode": "overlay",
             "size": 10,
             "solidity": 0.2
            },
            "type": "scatter"
           }
          ],
          "scatter3d": [
           {
            "line": {
             "colorbar": {
              "outlinewidth": 0,
              "ticks": ""
             }
            },
            "marker": {
             "colorbar": {
              "outlinewidth": 0,
              "ticks": ""
             }
            },
            "type": "scatter3d"
           }
          ],
          "scattercarpet": [
           {
            "marker": {
             "colorbar": {
              "outlinewidth": 0,
              "ticks": ""
             }
            },
            "type": "scattercarpet"
           }
          ],
          "scattergeo": [
           {
            "marker": {
             "colorbar": {
              "outlinewidth": 0,
              "ticks": ""
             }
            },
            "type": "scattergeo"
           }
          ],
          "scattergl": [
           {
            "marker": {
             "colorbar": {
              "outlinewidth": 0,
              "ticks": ""
             }
            },
            "type": "scattergl"
           }
          ],
          "scattermapbox": [
           {
            "marker": {
             "colorbar": {
              "outlinewidth": 0,
              "ticks": ""
             }
            },
            "type": "scattermapbox"
           }
          ],
          "scatterpolar": [
           {
            "marker": {
             "colorbar": {
              "outlinewidth": 0,
              "ticks": ""
             }
            },
            "type": "scatterpolar"
           }
          ],
          "scatterpolargl": [
           {
            "marker": {
             "colorbar": {
              "outlinewidth": 0,
              "ticks": ""
             }
            },
            "type": "scatterpolargl"
           }
          ],
          "scatterternary": [
           {
            "marker": {
             "colorbar": {
              "outlinewidth": 0,
              "ticks": ""
             }
            },
            "type": "scatterternary"
           }
          ],
          "surface": [
           {
            "colorbar": {
             "outlinewidth": 0,
             "ticks": ""
            },
            "colorscale": [
             [
              0,
              "#0d0887"
             ],
             [
              0.1111111111111111,
              "#46039f"
             ],
             [
              0.2222222222222222,
              "#7201a8"
             ],
             [
              0.3333333333333333,
              "#9c179e"
             ],
             [
              0.4444444444444444,
              "#bd3786"
             ],
             [
              0.5555555555555556,
              "#d8576b"
             ],
             [
              0.6666666666666666,
              "#ed7953"
             ],
             [
              0.7777777777777778,
              "#fb9f3a"
             ],
             [
              0.8888888888888888,
              "#fdca26"
             ],
             [
              1,
              "#f0f921"
             ]
            ],
            "type": "surface"
           }
          ],
          "table": [
           {
            "cells": {
             "fill": {
              "color": "#EBF0F8"
             },
             "line": {
              "color": "white"
             }
            },
            "header": {
             "fill": {
              "color": "#C8D4E3"
             },
             "line": {
              "color": "white"
             }
            },
            "type": "table"
           }
          ]
         },
         "layout": {
          "annotationdefaults": {
           "arrowcolor": "#2a3f5f",
           "arrowhead": 0,
           "arrowwidth": 1
          },
          "autotypenumbers": "strict",
          "coloraxis": {
           "colorbar": {
            "outlinewidth": 0,
            "ticks": ""
           }
          },
          "colorscale": {
           "diverging": [
            [
             0,
             "#8e0152"
            ],
            [
             0.1,
             "#c51b7d"
            ],
            [
             0.2,
             "#de77ae"
            ],
            [
             0.3,
             "#f1b6da"
            ],
            [
             0.4,
             "#fde0ef"
            ],
            [
             0.5,
             "#f7f7f7"
            ],
            [
             0.6,
             "#e6f5d0"
            ],
            [
             0.7,
             "#b8e186"
            ],
            [
             0.8,
             "#7fbc41"
            ],
            [
             0.9,
             "#4d9221"
            ],
            [
             1,
             "#276419"
            ]
           ],
           "sequential": [
            [
             0,
             "#0d0887"
            ],
            [
             0.1111111111111111,
             "#46039f"
            ],
            [
             0.2222222222222222,
             "#7201a8"
            ],
            [
             0.3333333333333333,
             "#9c179e"
            ],
            [
             0.4444444444444444,
             "#bd3786"
            ],
            [
             0.5555555555555556,
             "#d8576b"
            ],
            [
             0.6666666666666666,
             "#ed7953"
            ],
            [
             0.7777777777777778,
             "#fb9f3a"
            ],
            [
             0.8888888888888888,
             "#fdca26"
            ],
            [
             1,
             "#f0f921"
            ]
           ],
           "sequentialminus": [
            [
             0,
             "#0d0887"
            ],
            [
             0.1111111111111111,
             "#46039f"
            ],
            [
             0.2222222222222222,
             "#7201a8"
            ],
            [
             0.3333333333333333,
             "#9c179e"
            ],
            [
             0.4444444444444444,
             "#bd3786"
            ],
            [
             0.5555555555555556,
             "#d8576b"
            ],
            [
             0.6666666666666666,
             "#ed7953"
            ],
            [
             0.7777777777777778,
             "#fb9f3a"
            ],
            [
             0.8888888888888888,
             "#fdca26"
            ],
            [
             1,
             "#f0f921"
            ]
           ]
          },
          "colorway": [
           "#636efa",
           "#EF553B",
           "#00cc96",
           "#ab63fa",
           "#FFA15A",
           "#19d3f3",
           "#FF6692",
           "#B6E880",
           "#FF97FF",
           "#FECB52"
          ],
          "font": {
           "color": "#2a3f5f"
          },
          "geo": {
           "bgcolor": "white",
           "lakecolor": "white",
           "landcolor": "#E5ECF6",
           "showlakes": true,
           "showland": true,
           "subunitcolor": "white"
          },
          "hoverlabel": {
           "align": "left"
          },
          "hovermode": "closest",
          "mapbox": {
           "style": "light"
          },
          "paper_bgcolor": "white",
          "plot_bgcolor": "#E5ECF6",
          "polar": {
           "angularaxis": {
            "gridcolor": "white",
            "linecolor": "white",
            "ticks": ""
           },
           "bgcolor": "#E5ECF6",
           "radialaxis": {
            "gridcolor": "white",
            "linecolor": "white",
            "ticks": ""
           }
          },
          "scene": {
           "xaxis": {
            "backgroundcolor": "#E5ECF6",
            "gridcolor": "white",
            "gridwidth": 2,
            "linecolor": "white",
            "showbackground": true,
            "ticks": "",
            "zerolinecolor": "white"
           },
           "yaxis": {
            "backgroundcolor": "#E5ECF6",
            "gridcolor": "white",
            "gridwidth": 2,
            "linecolor": "white",
            "showbackground": true,
            "ticks": "",
            "zerolinecolor": "white"
           },
           "zaxis": {
            "backgroundcolor": "#E5ECF6",
            "gridcolor": "white",
            "gridwidth": 2,
            "linecolor": "white",
            "showbackground": true,
            "ticks": "",
            "zerolinecolor": "white"
           }
          },
          "shapedefaults": {
           "line": {
            "color": "#2a3f5f"
           }
          },
          "ternary": {
           "aaxis": {
            "gridcolor": "white",
            "linecolor": "white",
            "ticks": ""
           },
           "baxis": {
            "gridcolor": "white",
            "linecolor": "white",
            "ticks": ""
           },
           "bgcolor": "#E5ECF6",
           "caxis": {
            "gridcolor": "white",
            "linecolor": "white",
            "ticks": ""
           }
          },
          "title": {
           "x": 0.05
          },
          "xaxis": {
           "automargin": true,
           "gridcolor": "white",
           "linecolor": "white",
           "ticks": "",
           "title": {
            "standoff": 15
           },
           "zerolinecolor": "white",
           "zerolinewidth": 2
          },
          "yaxis": {
           "automargin": true,
           "gridcolor": "white",
           "linecolor": "white",
           "ticks": "",
           "title": {
            "standoff": 15
           },
           "zerolinecolor": "white",
           "zerolinewidth": 2
          }
         }
        },
        "title": {
         "text": "Posterior distribution of selection parameter s (5% best over 1000 samples)"
        },
        "xaxis": {
         "title": {
          "text": "s values"
         }
        },
        "yaxis": {
         "title": {
          "text": "Count"
         }
        }
       }
      }
     },
     "metadata": {},
     "output_type": "display_data"
    }
   ],
   "source": [
    "plot_posterior_util(s_values, distances, top_percent=5, save_fig=True, plot_color='coral', filepath='plots/posterior.png')"
   ]
  },
  {
   "cell_type": "code",
   "execution_count": 12,
   "metadata": {},
   "outputs": [],
   "source": [
    "top_percent = 5\n",
    "smallest_indices = get_best_indices(distances, top_percent)\n",
    "top_simulations = np.array(simulated_data_all)[smallest_indices].tolist()\n",
    "top_s_values = np.array(s_values)[smallest_indices].tolist()"
   ]
  },
  {
   "cell_type": "code",
   "execution_count": 15,
   "metadata": {},
   "outputs": [
    {
     "data": {
      "application/vnd.plotly.v1+json": {
       "config": {
        "plotlyServerURL": "https://plot.ly"
       },
       "data": [
        {
         "histnorm": "probability density",
         "marker": {
          "color": "palegreen",
          "pattern": {
           "shape": ""
          }
         },
         "name": "True data (passage 4)",
         "opacity": 0.7,
         "type": "histogram",
         "x": [
          4,
          6,
          7,
          8,
          8,
          8,
          8,
          9,
          10,
          10,
          10,
          10,
          11,
          11,
          12,
          12,
          12,
          12,
          12,
          12,
          12,
          13,
          13,
          13,
          13,
          13,
          14,
          14,
          14,
          14,
          14,
          14,
          14,
          14,
          14,
          15,
          15,
          15,
          15,
          15,
          15,
          16,
          16,
          16,
          16,
          16,
          16,
          17,
          17,
          17,
          17,
          17,
          17,
          18,
          18,
          18,
          18,
          18,
          18,
          18,
          19,
          19,
          19,
          19,
          19,
          19,
          20,
          20,
          20,
          20,
          20,
          20,
          20,
          20,
          21,
          21,
          21,
          21,
          22,
          22,
          22,
          22,
          22,
          23,
          23,
          23,
          23,
          24,
          24,
          24,
          24,
          25,
          25,
          25,
          26,
          26,
          26,
          26,
          26,
          26,
          26,
          26,
          26,
          26,
          26,
          27,
          27,
          27,
          27,
          27,
          27,
          28,
          28,
          28,
          28,
          28,
          28,
          29,
          29,
          29,
          30,
          30,
          31,
          31,
          31,
          31,
          32,
          32,
          33,
          33,
          34,
          34,
          34,
          34,
          34,
          34,
          34,
          34,
          35,
          36,
          36,
          36,
          36,
          36,
          36,
          37,
          37,
          37,
          37,
          38,
          38,
          39,
          39,
          39,
          39,
          39,
          40,
          40,
          40,
          40,
          40,
          40,
          41,
          41,
          41,
          42,
          42,
          42,
          42,
          42,
          43,
          43,
          44,
          44,
          44,
          44,
          44,
          44,
          44,
          44,
          45,
          45,
          45,
          47,
          48,
          48,
          48,
          48,
          48,
          49,
          49,
          49,
          50,
          50,
          50,
          50,
          51,
          51,
          51,
          51,
          52,
          52,
          52,
          53,
          53,
          53,
          53,
          54,
          54,
          54,
          54,
          54,
          55,
          55,
          57,
          57,
          57,
          58,
          58,
          58,
          58,
          58,
          59,
          59,
          60,
          61,
          62,
          62,
          63,
          63,
          64,
          65,
          65,
          66,
          67,
          68,
          68,
          68,
          69,
          69,
          70,
          70,
          70,
          71,
          71,
          71,
          72,
          72,
          72,
          73,
          75,
          76,
          76,
          77,
          77,
          77,
          78,
          78,
          78,
          79,
          79,
          80,
          80,
          80,
          80,
          81,
          81,
          82,
          82,
          82,
          82,
          84,
          84,
          85,
          85,
          87,
          87,
          88,
          88,
          88,
          88,
          88,
          89,
          91,
          91,
          92,
          92,
          93,
          94,
          94,
          97,
          97,
          98,
          98,
          99,
          99,
          102,
          103,
          104,
          104,
          105,
          106,
          106,
          109,
          110,
          111,
          113,
          114,
          115,
          118,
          118,
          119,
          120,
          122,
          124,
          125,
          126,
          126,
          126,
          127,
          128,
          129,
          130,
          137,
          137,
          140,
          141,
          144,
          148,
          153,
          156,
          163,
          164,
          168,
          178,
          183,
          184,
          192,
          193,
          196,
          202,
          205,
          221,
          222,
          223,
          254,
          265,
          286,
          288,
          305,
          327,
          329,
          349,
          438,
          495
         ],
         "xbins": {
          "size": 10
         }
        },
        {
         "line": {
          "color": "red",
          "width": 2
         },
         "name": "Mean simulations histogram",
         "type": "scatter",
         "x": [
          0,
          10,
          20,
          30,
          40,
          50,
          60,
          70,
          80,
          90,
          100,
          110,
          120,
          130,
          140,
          150,
          160,
          170,
          180,
          190,
          200,
          210,
          220,
          230,
          240,
          250,
          260,
          270,
          280,
          290,
          300,
          310,
          320,
          330,
          340,
          350,
          360,
          370,
          380,
          390,
          390,
          380,
          370,
          360,
          350,
          340,
          330,
          320,
          310,
          300,
          290,
          280,
          270,
          260,
          250,
          240,
          230,
          220,
          210,
          200,
          190,
          180,
          170,
          160,
          150,
          140,
          130,
          120,
          110,
          100,
          90,
          80,
          70,
          60,
          50,
          40,
          30,
          20,
          10,
          0
         ],
         "y": [
          0.010273999999999998,
          0.009093999999999996,
          0.010417999999999993,
          0.010479999999999998,
          0.009644,
          0.008368,
          0.007413999999999999,
          0.006566000000000001,
          0.005485999999999999,
          0.004543999999999999,
          0.0037399999999999994,
          0.0030479999999999995,
          0.002384,
          0.0019500000000000001,
          0.0014740000000000003,
          0.0011700000000000007,
          0.0008800000000000001,
          0.0007080000000000002,
          0.000564,
          0.00042399999999999995,
          0.0003299999999999999,
          0.00020399999999999997,
          0.000196,
          0.000182,
          0.00012599999999999997,
          0.000084,
          0.000076,
          0.000066,
          0.000038,
          0.000022000000000000003,
          0.000016000000000000003,
          0.000006,
          0.00001,
          0.000006,
          0.000002,
          0.000002,
          0.000002,
          0,
          0,
          0.000002
         ]
        },
        {
         "fill": "toself",
         "fillcolor": "rgba(206, 255, 79, 0.2)",
         "line": {
          "color": "orangered",
          "dash": "dash",
          "width": 1
         },
         "name": "95% Confidence Interval",
         "type": "scatter",
         "x": [
          0,
          10,
          20,
          30,
          40,
          50,
          60,
          70,
          80,
          90,
          100,
          110,
          120,
          130,
          140,
          150,
          160,
          170,
          180,
          190,
          200,
          210,
          220,
          230,
          240,
          250,
          260,
          270,
          280,
          290,
          300,
          310,
          320,
          330,
          340,
          350,
          360,
          370,
          380,
          390,
          390,
          380,
          370,
          360,
          350,
          340,
          330,
          320,
          310,
          300,
          290,
          280,
          270,
          260,
          250,
          240,
          230,
          220,
          210,
          200,
          190,
          180,
          170,
          160,
          150,
          140,
          130,
          120,
          110,
          100,
          90,
          80,
          70,
          60,
          50,
          40,
          30,
          20,
          10,
          0
         ],
         "y": [
          0.018184999999999996,
          0.012914999999999996,
          0.014055,
          0.013064999999999998,
          0.012764999999999999,
          0.01062,
          0.0095,
          0.008719999999999999,
          0.007254999999999999,
          0.0061649999999999995,
          0.005254999999999999,
          0.004455,
          0.003729999999999998,
          0.0033099999999999996,
          0.0026199999999999986,
          0.002055,
          0.0020099999999999996,
          0.0014549999999999997,
          0.0013,
          0.0009549999999999997,
          0.0009,
          0.0005549999999999997,
          0.0005,
          0.0007,
          0.0005549999999999997,
          0.00045499999999999973,
          0.0003,
          0.0003,
          0.0002,
          0.0001,
          0.0001,
          0.00005499999999999972,
          0.00005499999999999972,
          0,
          0,
          0,
          0,
          0,
          0,
          0,
          0,
          0,
          0,
          0,
          0,
          0,
          0,
          0,
          0,
          0,
          0,
          0,
          0,
          0,
          0,
          0,
          0,
          0,
          0,
          0,
          0,
          0,
          0.00004500000000000002,
          0.0002,
          0.00044500000000000003,
          0.000435,
          0.000845,
          0.001345,
          0.001645,
          0.002245,
          0.002945,
          0.0035900000000000003,
          0.004445,
          0.00477,
          0.006345,
          0.0072900000000000005,
          0.00759,
          0.007025,
          0.006345,
          0.00489
         ]
        }
       ],
       "layout": {
        "bargap": 0.1,
        "barmode": "overlay",
        "plot_bgcolor": "white",
        "template": {
         "data": {
          "bar": [
           {
            "error_x": {
             "color": "#2a3f5f"
            },
            "error_y": {
             "color": "#2a3f5f"
            },
            "marker": {
             "line": {
              "color": "#E5ECF6",
              "width": 0.5
             },
             "pattern": {
              "fillmode": "overlay",
              "size": 10,
              "solidity": 0.2
             }
            },
            "type": "bar"
           }
          ],
          "barpolar": [
           {
            "marker": {
             "line": {
              "color": "#E5ECF6",
              "width": 0.5
             },
             "pattern": {
              "fillmode": "overlay",
              "size": 10,
              "solidity": 0.2
             }
            },
            "type": "barpolar"
           }
          ],
          "carpet": [
           {
            "aaxis": {
             "endlinecolor": "#2a3f5f",
             "gridcolor": "white",
             "linecolor": "white",
             "minorgridcolor": "white",
             "startlinecolor": "#2a3f5f"
            },
            "baxis": {
             "endlinecolor": "#2a3f5f",
             "gridcolor": "white",
             "linecolor": "white",
             "minorgridcolor": "white",
             "startlinecolor": "#2a3f5f"
            },
            "type": "carpet"
           }
          ],
          "choropleth": [
           {
            "colorbar": {
             "outlinewidth": 0,
             "ticks": ""
            },
            "type": "choropleth"
           }
          ],
          "contour": [
           {
            "colorbar": {
             "outlinewidth": 0,
             "ticks": ""
            },
            "colorscale": [
             [
              0,
              "#0d0887"
             ],
             [
              0.1111111111111111,
              "#46039f"
             ],
             [
              0.2222222222222222,
              "#7201a8"
             ],
             [
              0.3333333333333333,
              "#9c179e"
             ],
             [
              0.4444444444444444,
              "#bd3786"
             ],
             [
              0.5555555555555556,
              "#d8576b"
             ],
             [
              0.6666666666666666,
              "#ed7953"
             ],
             [
              0.7777777777777778,
              "#fb9f3a"
             ],
             [
              0.8888888888888888,
              "#fdca26"
             ],
             [
              1,
              "#f0f921"
             ]
            ],
            "type": "contour"
           }
          ],
          "contourcarpet": [
           {
            "colorbar": {
             "outlinewidth": 0,
             "ticks": ""
            },
            "type": "contourcarpet"
           }
          ],
          "heatmap": [
           {
            "colorbar": {
             "outlinewidth": 0,
             "ticks": ""
            },
            "colorscale": [
             [
              0,
              "#0d0887"
             ],
             [
              0.1111111111111111,
              "#46039f"
             ],
             [
              0.2222222222222222,
              "#7201a8"
             ],
             [
              0.3333333333333333,
              "#9c179e"
             ],
             [
              0.4444444444444444,
              "#bd3786"
             ],
             [
              0.5555555555555556,
              "#d8576b"
             ],
             [
              0.6666666666666666,
              "#ed7953"
             ],
             [
              0.7777777777777778,
              "#fb9f3a"
             ],
             [
              0.8888888888888888,
              "#fdca26"
             ],
             [
              1,
              "#f0f921"
             ]
            ],
            "type": "heatmap"
           }
          ],
          "heatmapgl": [
           {
            "colorbar": {
             "outlinewidth": 0,
             "ticks": ""
            },
            "colorscale": [
             [
              0,
              "#0d0887"
             ],
             [
              0.1111111111111111,
              "#46039f"
             ],
             [
              0.2222222222222222,
              "#7201a8"
             ],
             [
              0.3333333333333333,
              "#9c179e"
             ],
             [
              0.4444444444444444,
              "#bd3786"
             ],
             [
              0.5555555555555556,
              "#d8576b"
             ],
             [
              0.6666666666666666,
              "#ed7953"
             ],
             [
              0.7777777777777778,
              "#fb9f3a"
             ],
             [
              0.8888888888888888,
              "#fdca26"
             ],
             [
              1,
              "#f0f921"
             ]
            ],
            "type": "heatmapgl"
           }
          ],
          "histogram": [
           {
            "marker": {
             "pattern": {
              "fillmode": "overlay",
              "size": 10,
              "solidity": 0.2
             }
            },
            "type": "histogram"
           }
          ],
          "histogram2d": [
           {
            "colorbar": {
             "outlinewidth": 0,
             "ticks": ""
            },
            "colorscale": [
             [
              0,
              "#0d0887"
             ],
             [
              0.1111111111111111,
              "#46039f"
             ],
             [
              0.2222222222222222,
              "#7201a8"
             ],
             [
              0.3333333333333333,
              "#9c179e"
             ],
             [
              0.4444444444444444,
              "#bd3786"
             ],
             [
              0.5555555555555556,
              "#d8576b"
             ],
             [
              0.6666666666666666,
              "#ed7953"
             ],
             [
              0.7777777777777778,
              "#fb9f3a"
             ],
             [
              0.8888888888888888,
              "#fdca26"
             ],
             [
              1,
              "#f0f921"
             ]
            ],
            "type": "histogram2d"
           }
          ],
          "histogram2dcontour": [
           {
            "colorbar": {
             "outlinewidth": 0,
             "ticks": ""
            },
            "colorscale": [
             [
              0,
              "#0d0887"
             ],
             [
              0.1111111111111111,
              "#46039f"
             ],
             [
              0.2222222222222222,
              "#7201a8"
             ],
             [
              0.3333333333333333,
              "#9c179e"
             ],
             [
              0.4444444444444444,
              "#bd3786"
             ],
             [
              0.5555555555555556,
              "#d8576b"
             ],
             [
              0.6666666666666666,
              "#ed7953"
             ],
             [
              0.7777777777777778,
              "#fb9f3a"
             ],
             [
              0.8888888888888888,
              "#fdca26"
             ],
             [
              1,
              "#f0f921"
             ]
            ],
            "type": "histogram2dcontour"
           }
          ],
          "mesh3d": [
           {
            "colorbar": {
             "outlinewidth": 0,
             "ticks": ""
            },
            "type": "mesh3d"
           }
          ],
          "parcoords": [
           {
            "line": {
             "colorbar": {
              "outlinewidth": 0,
              "ticks": ""
             }
            },
            "type": "parcoords"
           }
          ],
          "pie": [
           {
            "automargin": true,
            "type": "pie"
           }
          ],
          "scatter": [
           {
            "fillpattern": {
             "fillmode": "overlay",
             "size": 10,
             "solidity": 0.2
            },
            "type": "scatter"
           }
          ],
          "scatter3d": [
           {
            "line": {
             "colorbar": {
              "outlinewidth": 0,
              "ticks": ""
             }
            },
            "marker": {
             "colorbar": {
              "outlinewidth": 0,
              "ticks": ""
             }
            },
            "type": "scatter3d"
           }
          ],
          "scattercarpet": [
           {
            "marker": {
             "colorbar": {
              "outlinewidth": 0,
              "ticks": ""
             }
            },
            "type": "scattercarpet"
           }
          ],
          "scattergeo": [
           {
            "marker": {
             "colorbar": {
              "outlinewidth": 0,
              "ticks": ""
             }
            },
            "type": "scattergeo"
           }
          ],
          "scattergl": [
           {
            "marker": {
             "colorbar": {
              "outlinewidth": 0,
              "ticks": ""
             }
            },
            "type": "scattergl"
           }
          ],
          "scattermapbox": [
           {
            "marker": {
             "colorbar": {
              "outlinewidth": 0,
              "ticks": ""
             }
            },
            "type": "scattermapbox"
           }
          ],
          "scatterpolar": [
           {
            "marker": {
             "colorbar": {
              "outlinewidth": 0,
              "ticks": ""
             }
            },
            "type": "scatterpolar"
           }
          ],
          "scatterpolargl": [
           {
            "marker": {
             "colorbar": {
              "outlinewidth": 0,
              "ticks": ""
             }
            },
            "type": "scatterpolargl"
           }
          ],
          "scatterternary": [
           {
            "marker": {
             "colorbar": {
              "outlinewidth": 0,
              "ticks": ""
             }
            },
            "type": "scatterternary"
           }
          ],
          "surface": [
           {
            "colorbar": {
             "outlinewidth": 0,
             "ticks": ""
            },
            "colorscale": [
             [
              0,
              "#0d0887"
             ],
             [
              0.1111111111111111,
              "#46039f"
             ],
             [
              0.2222222222222222,
              "#7201a8"
             ],
             [
              0.3333333333333333,
              "#9c179e"
             ],
             [
              0.4444444444444444,
              "#bd3786"
             ],
             [
              0.5555555555555556,
              "#d8576b"
             ],
             [
              0.6666666666666666,
              "#ed7953"
             ],
             [
              0.7777777777777778,
              "#fb9f3a"
             ],
             [
              0.8888888888888888,
              "#fdca26"
             ],
             [
              1,
              "#f0f921"
             ]
            ],
            "type": "surface"
           }
          ],
          "table": [
           {
            "cells": {
             "fill": {
              "color": "#EBF0F8"
             },
             "line": {
              "color": "white"
             }
            },
            "header": {
             "fill": {
              "color": "#C8D4E3"
             },
             "line": {
              "color": "white"
             }
            },
            "type": "table"
           }
          ]
         },
         "layout": {
          "annotationdefaults": {
           "arrowcolor": "#2a3f5f",
           "arrowhead": 0,
           "arrowwidth": 1
          },
          "autotypenumbers": "strict",
          "coloraxis": {
           "colorbar": {
            "outlinewidth": 0,
            "ticks": ""
           }
          },
          "colorscale": {
           "diverging": [
            [
             0,
             "#8e0152"
            ],
            [
             0.1,
             "#c51b7d"
            ],
            [
             0.2,
             "#de77ae"
            ],
            [
             0.3,
             "#f1b6da"
            ],
            [
             0.4,
             "#fde0ef"
            ],
            [
             0.5,
             "#f7f7f7"
            ],
            [
             0.6,
             "#e6f5d0"
            ],
            [
             0.7,
             "#b8e186"
            ],
            [
             0.8,
             "#7fbc41"
            ],
            [
             0.9,
             "#4d9221"
            ],
            [
             1,
             "#276419"
            ]
           ],
           "sequential": [
            [
             0,
             "#0d0887"
            ],
            [
             0.1111111111111111,
             "#46039f"
            ],
            [
             0.2222222222222222,
             "#7201a8"
            ],
            [
             0.3333333333333333,
             "#9c179e"
            ],
            [
             0.4444444444444444,
             "#bd3786"
            ],
            [
             0.5555555555555556,
             "#d8576b"
            ],
            [
             0.6666666666666666,
             "#ed7953"
            ],
            [
             0.7777777777777778,
             "#fb9f3a"
            ],
            [
             0.8888888888888888,
             "#fdca26"
            ],
            [
             1,
             "#f0f921"
            ]
           ],
           "sequentialminus": [
            [
             0,
             "#0d0887"
            ],
            [
             0.1111111111111111,
             "#46039f"
            ],
            [
             0.2222222222222222,
             "#7201a8"
            ],
            [
             0.3333333333333333,
             "#9c179e"
            ],
            [
             0.4444444444444444,
             "#bd3786"
            ],
            [
             0.5555555555555556,
             "#d8576b"
            ],
            [
             0.6666666666666666,
             "#ed7953"
            ],
            [
             0.7777777777777778,
             "#fb9f3a"
            ],
            [
             0.8888888888888888,
             "#fdca26"
            ],
            [
             1,
             "#f0f921"
            ]
           ]
          },
          "colorway": [
           "#636efa",
           "#EF553B",
           "#00cc96",
           "#ab63fa",
           "#FFA15A",
           "#19d3f3",
           "#FF6692",
           "#B6E880",
           "#FF97FF",
           "#FECB52"
          ],
          "font": {
           "color": "#2a3f5f"
          },
          "geo": {
           "bgcolor": "white",
           "lakecolor": "white",
           "landcolor": "#E5ECF6",
           "showlakes": true,
           "showland": true,
           "subunitcolor": "white"
          },
          "hoverlabel": {
           "align": "left"
          },
          "hovermode": "closest",
          "mapbox": {
           "style": "light"
          },
          "paper_bgcolor": "white",
          "plot_bgcolor": "#E5ECF6",
          "polar": {
           "angularaxis": {
            "gridcolor": "white",
            "linecolor": "white",
            "ticks": ""
           },
           "bgcolor": "#E5ECF6",
           "radialaxis": {
            "gridcolor": "white",
            "linecolor": "white",
            "ticks": ""
           }
          },
          "scene": {
           "xaxis": {
            "backgroundcolor": "#E5ECF6",
            "gridcolor": "white",
            "gridwidth": 2,
            "linecolor": "white",
            "showbackground": true,
            "ticks": "",
            "zerolinecolor": "white"
           },
           "yaxis": {
            "backgroundcolor": "#E5ECF6",
            "gridcolor": "white",
            "gridwidth": 2,
            "linecolor": "white",
            "showbackground": true,
            "ticks": "",
            "zerolinecolor": "white"
           },
           "zaxis": {
            "backgroundcolor": "#E5ECF6",
            "gridcolor": "white",
            "gridwidth": 2,
            "linecolor": "white",
            "showbackground": true,
            "ticks": "",
            "zerolinecolor": "white"
           }
          },
          "shapedefaults": {
           "line": {
            "color": "#2a3f5f"
           }
          },
          "ternary": {
           "aaxis": {
            "gridcolor": "white",
            "linecolor": "white",
            "ticks": ""
           },
           "baxis": {
            "gridcolor": "white",
            "linecolor": "white",
            "ticks": ""
           },
           "bgcolor": "#E5ECF6",
           "caxis": {
            "gridcolor": "white",
            "linecolor": "white",
            "ticks": ""
           }
          },
          "title": {
           "x": 0.05
          },
          "xaxis": {
           "automargin": true,
           "gridcolor": "white",
           "linecolor": "white",
           "ticks": "",
           "title": {
            "standoff": 15
           },
           "zerolinecolor": "white",
           "zerolinewidth": 2
          },
          "yaxis": {
           "automargin": true,
           "gridcolor": "white",
           "linecolor": "white",
           "ticks": "",
           "title": {
            "standoff": 15
           },
           "zerolinecolor": "white",
           "zerolinewidth": 2
          }
         }
        },
        "title": {
         "text": "ecDNA counts at Passage 4 and 5% best simulations (over 1000 samples) with log fitness"
        },
        "xaxis": {
         "title": {
          "text": "ecDNA counts"
         }
        },
        "yaxis": {
         "title": {
          "text": "Frequency"
         }
        }
       }
      }
     },
     "metadata": {},
     "output_type": "display_data"
    }
   ],
   "source": [
    "plot_histograms_dict_overlay(dictionaries=top_simulations,\n",
    "                             true_data=true_data, bin_size=10,\n",
    "                             plot_ref=True, true_label='True data (passage 4)',\n",
    "                             title=f'ecDNA counts at Passage 4 and {top_percent}% best simulations (over {n_samples} samples) with {fitness} fitness',\n",
    "                             plot_avg=True, avg_color='red', avg_opacity=0.3,\n",
    "                             confidence_level=5, CI_linecolor='orangered', CI_fillcolor='rgba(206, 255, 79, 0.2)',\n",
    "                             plot_all=False,\n",
    "                             labels=[\"\"]*len(top_s_values), colors=['gold']*len(top_s_values), opacity=[0.3]*len(top_s_values),\n",
    "                             save=True, filepath='plots/abc_best_simulations_p4.png')"
   ]
  }
 ],
 "metadata": {
  "kernelspec": {
   "display_name": ".venv",
   "language": "python",
   "name": "python3"
  },
  "language_info": {
   "codemirror_mode": {
    "name": "ipython",
    "version": 3
   },
   "file_extension": ".py",
   "mimetype": "text/x-python",
   "name": "python",
   "nbconvert_exporter": "python",
   "pygments_lexer": "ipython3",
   "version": "3.12.2"
  }
 },
 "nbformat": 4,
 "nbformat_minor": 2
}
